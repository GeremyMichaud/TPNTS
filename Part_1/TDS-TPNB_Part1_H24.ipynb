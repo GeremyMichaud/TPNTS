{
 "cells": [
  {
   "cell_type": "markdown",
   "metadata": {},
   "source": [
    "<h1 style=\"text-align:center\">Travail pratique numérique en thermodynamique statistique</h1>\n",
    "<h2 style=\"text-align:center\">PARTIE 1 : Cinétique des gaz parfaits</h2>\n",
    "\n",
    "Veuillez indiquer le nom des membres de votre équipe dans la cellule suivante."
   ]
  },
  {
   "cell_type": "markdown",
   "metadata": {},
   "source": [
    "- Pierre-Olivier Desrosiers<br>\n",
    "- Nicolas Dorval<br>\n",
    "- Gérémy Michaud<br>\n",
    "- Félix-Antoine Dupuis"
   ]
  },
  {
   "cell_type": "markdown",
   "metadata": {},
   "source": [
    "# Atelier en classe : 31 janvier 2024 #\n",
    "### Discussion interdisciplinaire de sujets en probablilité & statistiques ###\n",
    "\n",
    "**Quelques fondements de mathématiques statistiques:** par exemple bien définir variables aléatoires, échantillon et population totale, estimateurs, fonction de distribution cumulative (répartition), densité de probabilité, moments, etc. - **Programme GPH**\n",
    "\n",
    "**Les distributions statistiques de particules indiscernables:** en particulier celle de Fermi-Dirac avec les notions de potentiel chimique et d’occupation des états en fonction de la température, en analogie avec le remplissage selon le principe principe d’Aufbau introduit en classe pour les atomes à température nulle. - **Programme PHY**\n",
    "\n",
    "**_Un point de bonus sera accordé à tous les étudiantes et étudiants qui participeront à l'atelier pour discuter des sujets ci-dessus et débuter le travail de la première partie ci-dessous._**"
   ]
  },
  {
   "cell_type": "markdown",
   "metadata": {
    "nteract": {
     "transient": {
      "deleting": false
     }
    }
   },
   "source": [
    "# Introduction #\n",
    "Ce travail révise d'abord quelques bases générales de mécanique statistique classique avec le script `TDSrevision-2Dsimulation.py` qui simule la théorie cinétique des gaz parfaits en 2D. Cette simulation utilise le concept de sphères dures, mais ici pour le cas des particules d'un gaz afin d'introduire des collisions élastiques entre elles sur leurs trajectoires ballistiques. Notez qu'une sphère est colorée et grossie seulement pour l’effet visuel dans l'animation, la physique de l’algorithme codé considère bien des particules totalement identiques. Les questions sur cette simulation, à répondre directement dans les cellules du carnet _(Notebook)_ ici-même, explorent quelques paramètres de la thermodynamique statistique et introduisent de nouveaux termes utiles à l'étude de la dynamique des électrons dans la matière.\n",
    "\n",
    "_N.B._ \n",
    "- _Pour montrer les animations à l'écran, le script `TDSrevision-2Dsimulation.py` importe la librairie `VPython` qu'il faut donc installer. Des liens vers sa documentation et de l'information complémentaire sont donnés dans la médiagraphie à la fin._\n",
    "- _Le code dans ce script est abusivement commenté dans notre contexte pédagogique, mais il serait bien sûr préférable de s’en tenir aux recommandations du <a href=\"https://www.python.org/dev/peps/pep-0008\"> PEP 8 — Style Guide for Python Code</a>._\n",
    "- _Notez finalement que la boucle principale à la fin du script laisse l'utilisateur voir l'animation aussi longtemps que souhaité, assurez-vous donc de savoir comment l'interrompre correctement avant de lancer la simulation ou de la remplacer par une boucle `for`._"
   ]
  },
  {
   "cell_type": "markdown",
   "metadata": {
    "nteract": {
     "transient": {
      "deleting": false
     }
    }
   },
   "source": [
    "# Cinétique CLASSIQUE des gaz parfaits #"
   ]
  },
  {
   "cell_type": "markdown",
   "metadata": {
    "nteract": {
     "transient": {
      "deleting": false
     }
    }
   },
   "source": [
    "### Simulation 2D ###"
   ]
  },
  {
   "cell_type": "code",
   "execution_count": null,
   "metadata": {},
   "outputs": [],
   "source": [
    "from vpython import *\n",
    "from IPython.display import display, Math\n",
    "import numpy as np\n",
    "import matplotlib.pyplot as plt\n",
    "import time\n",
    "from scipy.stats import describe, norm\n",
    "import seaborn as sns\n",
    "palette = sns.color_palette(\"colorblind\")"
   ]
  },
  {
   "cell_type": "markdown",
   "metadata": {},
   "source": [
    "Pour visualiser la simulation et consulter le code complet correspondant, veuillez exécuter le fichier ```TDS-2Dsimulation_H24.py```."
   ]
  },
  {
   "cell_type": "code",
   "execution_count": null,
   "metadata": {},
   "outputs": [],
   "source": [
    "start_time = time.time()\n",
    "# Déclaration de variables influençant le temps d'exécution de la simulation\n",
    "Natoms = 200  # change this to have more or fewer atoms\n",
    "dt = 1E-5  # pas d'incrémentation temporel\n",
    "\n",
    "# Déclaration de variables physiques \"Typical values\"\n",
    "mass = 4E-3/6E23 # helium mass\n",
    "Ratom = 0.01 # wildly exaggerated size of an atom\n",
    "k = 1.4E-23 # Boltzmann constant\n",
    "T = 300 # around room temperature\n",
    "\n",
    "# CANEVAS DE FOND\n",
    "L = 1 # container is a cube L on a side\n",
    "\n",
    "# ARÊTES DE BOÎTE 2D\n",
    "d = L/2+Ratom\n",
    "r = 0.005\n",
    "\n",
    "# POSITION ET QUANTITÉ DE MOUVEMENT INITIALE DES SPHÈRES\n",
    "Atoms = [] # Objet qui contiendra les sphères pour l'animation\n",
    "p = [] # quantité de mouvement des sphères\n",
    "apos = [] # position des sphères\n",
    "pavg = sqrt(2*mass*1.5*k*T) #Principe de l'équipartition de l'énergie en thermodynamique statistique classique\n",
    "\n",
    "for i in range(Natoms):\n",
    "    x = L*random()-L/2 # position aléatoire qui tient compte que l'origine est au centre de la boîte\n",
    "    y = L*random()-L/2\n",
    "    z = 0\n",
    "    apos.append(vec(x,y,z)) # liste de la position initiale de toutes les sphères\n",
    "    phi = 2*pi*random() # direction aléatoire pour la quantité de mouvement\n",
    "    px = pavg*cos(phi)  # quantité de mvt initiale selon l'équipartition\n",
    "    py = pavg*sin(phi)\n",
    "    pz = 0\n",
    "    p.append(vector(px,py,pz)) # liste de la quantité de mvt initiale de toutes les sphères\n",
    "\n",
    "# FONCTION POUR IDENTIFIER LES COLLISIONS, I.E. LORSQUE LA DISTANCE ENTRE LES CENTRES DE 2 SPHÈRES EST À LA LIMITE DE S'INTERPÉNÉTRER\n",
    "def checkCollisions():\n",
    "    hitlist = []   # initialisation\n",
    "    r2 = 2*Ratom   # distance critique où les 2 sphères entre en contact à la limite de leur rayon\n",
    "    r2 *= r2   # produit scalaire pour éviter une comparaison vectorielle ci-dessous\n",
    "    for i in range(Natoms):\n",
    "        ai = apos[i]\n",
    "        for j in range(i) :\n",
    "            aj = apos[j]\n",
    "            dr = ai - aj   # la boucle dans une boucle itère pour calculer cette distance vectorielle dr entre chaque paire de sphère\n",
    "            if mag2(dr) < r2:   # test de collision où mag2(dr) qui retourne la norme élevée au carré de la distance intersphère dr\n",
    "                hitlist.append([i,j]) # liste numérotant toutes les paires de sphères en collision\n",
    "    return hitlist\n",
    "\n",
    "iterations = 10000\n",
    "for i in range(iterations):\n",
    "    # DÉPLACE TOUTES LES SPHÈRES D'UN PAS SPATIAL deltax\n",
    "    vitesse = []   # vitesse instantanée de chaque sphère\n",
    "    deltax = []  # pas de position de chaque sphère correspondant à l'incrément de temps dt\n",
    "    for i in range(Natoms):\n",
    "        vitesse.append(p[i]/mass)   # par définition de la quantité de nouvement pour chaque sphère\n",
    "        deltax.append(vitesse[i] * dt)   # différence avant pour calculer l'incrément de position\n",
    "        apos[i] = apos[i] + deltax[i]  # nouvelle position de l'atome après l'incrément de temps dt\n",
    "\n",
    "    # CONSERVE LA QUANTITÉ DE MOUVEMENT AUX COLLISIONS AVEC LES PAROIS DE LA BOÎTE\n",
    "    for i in range(Natoms):\n",
    "        loc = apos[i]\n",
    "        if abs(loc.x) > L/2:\n",
    "            if loc.x < 0: p[i].x =  abs(p[i].x)  # renverse composante x à la paroi de gauche\n",
    "            else: p[i].x =  -abs(p[i].x)   # renverse composante x à la paroi de droite\n",
    "        if abs(loc.y) > L/2:\n",
    "            if loc.y < 0: p[i].y = abs(p[i].y)  # renverse composante y à la paroi du bas\n",
    "            else: p[i].y =  -abs(p[i].y)  # renverse composante y à la paroi du haut\n",
    "\n",
    "    # LET'S FIND THESE COLLISIONS!!!\n",
    "    hitlist = checkCollisions()\n",
    "\n",
    "    # CONSERVE LA QUANTITÉ DE MOUVEMENT AUX COLLISIONS ENTRE SPHÈRES\n",
    "    for ij in hitlist:\n",
    "\n",
    "        # définition de nouvelles variables pour chaque paire de sphères en collision\n",
    "        i = ij[0]  # extraction du numéro des 2 sphères impliquées à cette itération\n",
    "        j = ij[1]\n",
    "        ptot = p[i]+p[j]   # quantité de mouvement totale des 2 sphères\n",
    "        mtot = 2*mass    # masse totale des 2 sphères\n",
    "        Vcom = ptot/mtot   # vitesse du référentiel barycentrique/center-of-momentum (com) frame\n",
    "        posi = apos[i]   # position de chacune des 2 sphères\n",
    "        posj = apos[j]\n",
    "        vi = p[i]/mass   # vitesse de chacune des 2 sphères\n",
    "        vj = p[j]/mass\n",
    "        rrel = posi-posj  # vecteur pour la distance entre les centres des 2 sphères\n",
    "        vrel = vj-vi   # vecteur pour la différence de vitesse entre les 2 sphères\n",
    "\n",
    "        # exclusion de cas où il n'y a pas de changements à  faire\n",
    "        if vrel.mag2 == 0: continue  # exactly same velocities si et seulement si le vecteur vrel devient nul, la trajectoire des 2 sphères continue alors côte à côte\n",
    "        if rrel.mag > Ratom: continue  # one atom went all the way through another, la collision a été \"manquée\" à l'intérieur du pas deltax\n",
    "\n",
    "        # calcule la distance et temps d'interpénétration des sphères dures qui ne doit pas se produire dans ce modèle\n",
    "        dx = dot(rrel, vrel.hat)       # rrel.mag*cos(theta) où theta is the angle between vrel and rrel:\n",
    "        dy = cross(rrel, vrel.hat).mag # rrel.mag*sin(theta)\n",
    "        alpha = asin(dy/(2*Ratom))  # alpha is the angle of the triangle composed of rrel, path of atom j, and a line from the center of atom i to the center of atom j where atome j hits atom i\n",
    "        d = (2*Ratom)*cos(alpha)-dx # distance traveled into the atom from first contact\n",
    "        deltat = d/vrel.mag         # time spent moving from first contact to position inside atom\n",
    "\n",
    "        # CHANGE L'INTERPÉNÉTRATION DES SPHÈRES PAR LA CINÉTIQUE DE COLLISION\n",
    "        posi = posi-vi*deltat   # back up to contact configuration\n",
    "        posj = posj-vj*deltat\n",
    "        pcomi = p[i]-mass*Vcom  # transform momenta to center-of-momentum (com) frame\n",
    "        pcomj = p[j]-mass*Vcom\n",
    "        rrel = hat(rrel)    # vecteur unitaire aligné avec rrel\n",
    "        pcomi = pcomi-2*dot(pcomi,rrel)*rrel # bounce in center-of-momentum (com) frame\n",
    "        pcomj = pcomj-2*dot(pcomj,rrel)*rrel\n",
    "        p[i] = pcomi+mass*Vcom # transform momenta back to lab frame\n",
    "        p[j] = pcomj+mass*Vcom\n",
    "        apos[i] = posi+(p[i]/mass)*deltat # move forward deltat in time, ramenant au même temps où sont rendues les autres sphères dans l'itération\n",
    "        apos[j] = posj+(p[j]/mass)*deltat\n",
    "        \n",
    "print(\"--- %.3f seconds ---\" % (time.time() - start_time))"
   ]
  },
  {
   "cell_type": "markdown",
   "metadata": {},
   "source": [
    "### Questions statistiques ###"
   ]
  },
  {
   "cell_type": "markdown",
   "metadata": {},
   "source": [
    "**I.** _(3 points)_  &mdash; Utilisez la liste finale des vecteurs de quantité de mouvement $\\vec{p}$ de toutes les sphères pour trouver la moyenne de son carré $\\langle p^2\\rangle=\\langle\\vec{p}\\cdot\\vec{p}\\rangle$ et l'imprimer avec la fonction `print()` dans la cellule qui suit. "
   ]
  },
  {
   "cell_type": "code",
   "execution_count": null,
   "metadata": {},
   "outputs": [],
   "source": [
    "p_squared_avg = sum([mag2(pi) for pi in p]) / Natoms\n",
    "display(Math(f'\\\\langle p^2 \\\\rangle \\\\approx {p_squared_avg:.3e}\\; [kg \\cdot m/s]^2'))"
   ]
  },
  {
   "cell_type": "markdown",
   "metadata": {},
   "source": [
    "**II.** _(2 points)_  &mdash; La température $T$ (macroscopique) est proportionnelle à l'énergie cinétique moyenne $E_{cin}$ de l'ensemble des particules lorsque ce système est rendu à l'équilibre. Celle-ci peut se calculer classiquement selon son <a href=\"https://fr.wikipedia.org/wiki/%C3%89quipartition_de_l%27%C3%A9nergie\">principe d'équipartition</a>, _i.e._ répartissant l'énergie également sur chaque degré de liberté ici en translation seulement, d'où au total pour $i=1,2\\text{ ou } 3$ dimensions d'espace réel\n",
    "\\begin{equation}\n",
    "E_{cin}=\\frac{\\langle p^2 \\rangle}{2m}=i\\times\\frac{1}{2}k_BT\n",
    "\\end{equation}\n",
    "avec $k_B$, la constante de Boltzmann et $m$, la masse de chaque particule. Quelle est la température du gaz de sphères dures à la fin de la simulation? Est-ce qu'elle a changé significativement par rapport à sa valeur initiale?"
   ]
  },
  {
   "cell_type": "markdown",
   "metadata": {},
   "source": [
    "En tenant compte des 3 degrés de liberté ($i = 3$) en translation de chaque particule de masse constante $m$ dans le cube, nous réarrangeons l'équation pour résoudre pour la température $T_{final}$ et nous obtenons :\n",
    "\\begin{equation*}\n",
    "T_{final} = \\frac{\\langle p^2 \\rangle}{3mk_B}\n",
    "\\end{equation*}"
   ]
  },
  {
   "cell_type": "code",
   "execution_count": null,
   "metadata": {},
   "outputs": [],
   "source": [
    "deg_liberte = 3\n",
    "T_final = p_squared_avg / (deg_liberte*mass*k)\n",
    "print(f\"Température initiale: {T:.3f} K\")\n",
    "print(f\"Température finale: {T_final:.3f} K\")\n",
    "if round(T_final, 3) > T:\n",
    "    print(f\"La température finale est donc {T_final/T:.2f} fois plus élevée que la température initiale.\")\n",
    "elif round(T_final, 3) < T:\n",
    "    print(f\"La température finale est donc {T/T_final:.2f} fois plus faible que la température initiale.\")\n",
    "else:\n",
    "    print(f\"La température finale est donc la même que la température initiale.\")\n"
   ]
  },
  {
   "cell_type": "markdown",
   "metadata": {},
   "source": [
    "Ainsi, la température finale ne diffère pas significativement de la température initiale à quelques arrondissements numériques près. <br>\n",
    "L'ajout ou le retrait d'un degré de liberté affecte la température, car l’énergie est répartie également entre tous les degrés de liberté, d’où le nom du principe « d'équipartition »."
   ]
  },
  {
   "cell_type": "markdown",
   "metadata": {
    "nteract": {
     "transient": {
      "deleting": false
     }
    }
   },
   "source": [
    "**III.** _(10 points)_ &mdash; Modifiez le code de la simulation pour ajouter une fonction qui suit la trajectoire d'UNE SEULE particule, c'est-à-dire qu'elle doit enregistrer, dans une liste, des valeurs de variables pour cette particule et ce, à chacune de ses collisions avec une autre particule (_i.e._ excluez les collisions avec les parois de la boîte). Les deux variables scalaires à lister sont:\n",
    "- la distance que la particule a parcouru entre chaque collision,\n",
    "- le temps écoulé entre ces collisions.\n",
    "\n",
    "Copiez le code de votre fonction dans la cellule qui suit en y commentant clairement les variables pour ces listes qui devront persister après avoir interrompu l'exécution de la simulation. N'oubliez pas d'inclure votre fichier Python (`.py`) modifié avec la simulation complète lors de la remise."
   ]
  },
  {
   "cell_type": "code",
   "execution_count": null,
   "metadata": {},
   "outputs": [],
   "source": [
    "# Les fonctions ci-dessous ont été ajoutées uniquement pour faciliter la compréhension de la simulation \n",
    "# et pour éviter les erreurs dues à une mauvaise compilation (compilation abusive du même bloc de code sans compiler la simulation).\n",
    "def update_positions():\n",
    "    \"\"\"\n",
    "    Met à jour les positions des sphères en fonction de leur vitesse actuelle et du pas de temps.\n",
    "\n",
    "    Args:\n",
    "        global apos: Liste des positions des sphères\n",
    "    \"\"\"\n",
    "    global apos\n",
    "    vitesse = [p[i] / mass for i in range(Natoms)]  # Calcul de la vitesse pour chaque sphère\n",
    "    deltax = [vitesse[i] * dt for i in range(Natoms)]   # Calcul du déplacement pour chaque sphère\n",
    "    apos = [apos[i] + deltax[i] for i in range(Natoms)]  # Mise à jour des positions des sphères\n",
    "\n",
    "def handle_wall_collisions():\n",
    "    \"\"\"\n",
    "    Gère les collisions avec les parois de la boîte en inversant la composante de la vitesse\n",
    "    lorsque la sphère atteint une paroi.\n",
    "\n",
    "    Args:\n",
    "        global apos: Liste des positions des sphères\n",
    "        global p: Liste des quantités de mouvement des sphères\n",
    "    \"\"\"\n",
    "    for i in range(Natoms):\n",
    "        loc = apos[i]\n",
    "        if abs(loc.x) > L / 2:\n",
    "            p[i].x = abs(p[i].x) if loc.x < 0 else -abs(p[i].x)\n",
    "        if abs(loc.y) > L / 2:\n",
    "            p[i].y = abs(p[i].y) if loc.y < 0 else -abs(p[i].y)\n",
    "\n",
    "def handle_particle_collision(particle_index, j):\n",
    "    \"\"\"\n",
    "    Gère les collisions entre deux sphères en ajustant les positions après la collision.\n",
    "\n",
    "    Args:\n",
    "        particle_index (int): Indice de la sphère d'intérêt\n",
    "        j (int): Indice de la deuxième sphère impliquée dans la collision\n",
    "        global apos: Liste des positions des sphères\n",
    "        global p: Liste des quantités de mouvement des sphères\n",
    "    \"\"\"\n",
    "    vi = p[particle_index] / mass\n",
    "    vj = p[j] / mass\n",
    "    rrel = apos[particle_index] - apos[j]\n",
    "    vrel = vj - vi\n",
    "\n",
    "    if vrel.mag2 == 0 or rrel.mag > Ratom:\n",
    "        return\n",
    "\n",
    "    dx = dot(rrel, vrel.hat)\n",
    "    dy = cross(rrel, vrel.hat).mag\n",
    "    alpha = asin(dy / (2 * Ratom))\n",
    "    d = (2 * Ratom) * cos(alpha) - dx\n",
    "    deltat = d / vrel.mag\n",
    "\n",
    "\n",
    "# Cette fonction est la seule ayant été réellement ajoutée\n",
    "def follow_particle_trajectory(particle_index):\n",
    "    \"\"\"\n",
    "    Suit la trajectoire d'une particule spécifiée en enregistrant les positions et distances de collision.\n",
    "\n",
    "    Args:\n",
    "        particle_index (int): Index de la particule à suivre.\n",
    "\n",
    "    Returns:\n",
    "        Tuple: Tuple contenant les distances de collision, les temps écoulés entre les collisions\n",
    "            et les positions de la particule entre chaque particule.\n",
    "    \"\"\"\n",
    "    position_init = apos[particle_index]\n",
    "    collision_positions = []\n",
    "    collison_distances = []\n",
    "    time_to_collision = []\n",
    "\n",
    "    iterations = 10000\n",
    "    for _ in range(iterations):\n",
    "        update_positions()\n",
    "\n",
    "        handle_wall_collisions()\n",
    "\n",
    "        hitlist = checkCollisions()\n",
    "\n",
    "        # Exclure les collisions avec les parois de la boîte et ne garder que celles impliquant la particule spécifiée\n",
    "        hitlist = [(i, j) for (i, j) in hitlist if i == particle_index or j == particle_index]\n",
    "\n",
    "        if not hitlist:\n",
    "            continue  # Si aucune collision avec la particule spécifiée, continuez la simulation\n",
    "\n",
    "        for ij in hitlist:\n",
    "            j = ij[0] if ij[1] == particle_index else ij[1]\n",
    "            handle_particle_collision(particle_index, j)\n",
    "\n",
    "            if len(collision_positions) == 0:\n",
    "                previous_position = position_init\n",
    "                collision_positions.append(position_init)\n",
    "            else:\n",
    "                previous_position = collision_positions[-1]\n",
    "\n",
    "            distance = mag(apos[particle_index] - previous_position)\n",
    "            time_elapsed = distance / mag(p[j] / mass)  # Utilisation de la vitesse de la particule j après la collision\n",
    "\n",
    "            collision_positions.append(apos[particle_index])\n",
    "            collison_distances.append(distance)\n",
    "            time_to_collision.append(time_elapsed)\n",
    "\n",
    "            apos[particle_index] = apos[particle_index] + vi * deltat\n",
    "\n",
    "    return collison_distances, time_to_collision, collision_positions\n",
    "\n",
    "# Utilisation de la fonction pour suivre la trajectoire de la particule\n",
    "particle_index_to_follow = 20\n",
    "trajectory_result = follow_particle_trajectory(particle_index_to_follow)"
   ]
  },
  {
   "cell_type": "markdown",
   "metadata": {
    "nteract": {
     "transient": {
      "deleting": false
     }
    }
   },
   "source": [
    "**IV.** _(2 points)_ &mdash; Calculez le **libre parcours moyen** $l_{moy}$ et le **temps de collision** $\\tau$ qui sont les valeurs moyennes des deux listes compilées au numéro précédent.\n",
    "\n",
    "_(Pour votre information, le libre parcours moyen est de l’ordre de 100 nm dans l'air à température et pression ambiantes, mais_ $l_{moy}$ _peut dépasser 100 000 km dans une enceinte sous vide avec les technologies de pompes modernes!)_"
   ]
  },
  {
   "cell_type": "code",
   "execution_count": null,
   "metadata": {
    "nteract": {
     "transient": {
      "deleting": false
     }
    }
   },
   "outputs": [],
   "source": [
    "lpm = np.mean(trajectory_result[0])\n",
    "tdc = np.mean(trajectory_result[1])\n",
    "\n",
    "display(Math(f\"l_{{moy}} \\\\approx {lpm:.5f}\\; [m]\"))\n",
    "display(Math(f\"\\\\tau \\\\approx {tdc:.5e}\\; [s]\"))"
   ]
  },
  {
   "cell_type": "markdown",
   "metadata": {
    "nteract": {
     "transient": {
      "deleting": false
     }
    }
   },
   "source": [
    "**V.** _(2 points)_ Calculez la vitesse $\\vec{v}$ de la particule entre chaque paire de collisions. Quelle est la vitesse moyenne $\\langle\\vec{v}\\rangle$ de la particule?"
   ]
  },
  {
   "cell_type": "markdown",
   "metadata": {},
   "source": [
    "La vitesse $\\vec{v}$ de la particule étudiée entre chaque paire de collisions est déterminée en utilisant la position de la particule à chaque collision ainsi que le temps écoulé entre ces collisions."
   ]
  },
  {
   "cell_type": "code",
   "execution_count": null,
   "metadata": {
    "nteract": {
     "transient": {
      "deleting": false
     }
    }
   },
   "outputs": [],
   "source": [
    "def calculate_velocities(positions, time_intervals):\n",
    "    \"\"\"\n",
    "    Calcule les vitesses entre chaque paire de collisions.\n",
    "\n",
    "    Args:\n",
    "        positions (list): Liste des positions de la particule.\n",
    "        time_intervals (list): Liste des intervalles de temps entre chaque paire de collisions.\n",
    "\n",
    "    Returns:\n",
    "        list: Liste des vecteur de vitesse de la particule entre chaque paire de collisions.\n",
    "    \"\"\"\n",
    "    velocities = []\n",
    "\n",
    "    for i in range(1, len(positions)):\n",
    "        delta_position = positions[i] - positions[i - 1]\n",
    "        time_interval = time_intervals[i - 1]\n",
    "        velocity = delta_position / time_interval\n",
    "        velocities.append(velocity)\n",
    "\n",
    "    return velocities\n",
    "\n",
    "positions = trajectory_result[2]\n",
    "time_intervals = trajectory_result[1]\n",
    "\n",
    "velocities = calculate_velocities(positions, time_intervals)\n",
    "mean_velocity = np.mean(velocities)\n",
    "\n",
    "formatted_mean_velocity = f\"<{mean_velocity.x:.3f},\\; {mean_velocity.y:.3f},\\; {mean_velocity.z:.0f}>\"\n",
    "display(Math(f\"\\\\langle \\\\vec{{v}} \\\\rangle \\\\approx\\; {formatted_mean_velocity}\\; [m/s]\"))"
   ]
  },
  {
   "cell_type": "markdown",
   "metadata": {},
   "source": [
    "Nous remarquons que la vitesse moyenne tend à se rapprocher de zéro à mesure que l'on augmente le nombre d'itérations de la simulation, reflétant ainsi l'équilibre des mouvements dans différentes directions au fil du temps dans une enceinte fermée."
   ]
  },
  {
   "cell_type": "markdown",
   "metadata": {
    "nteract": {
     "transient": {
      "deleting": false
     }
    }
   },
   "source": [
    "**VI.** _(5 points)_ &mdash; Pour cette même liste de vitesses, comparez les distributions de la norme $||\\vec{v}||$, du carré $v^2$ et d’une de ses composantes $v_x^2$ en étalonnant l’abscisse pour contraster les histogrammes avec une échelle appropriée. Indiquez sur ce graphique la moyenne, le mode, la médiane et la moyenne quadratique des distributions."
   ]
  },
  {
   "cell_type": "code",
   "execution_count": null,
   "metadata": {},
   "outputs": [],
   "source": [
    "def calculate_statistics(data):\n",
    "    \"\"\"\n",
    "    Calcule les statistiques des données, y compris la description, le mode et la médiane.\n",
    "\n",
    "    Args:\n",
    "        data (numpy.ndarray): Les données pour lesquelles les statistiques doivent être calculées.\n",
    "\n",
    "    Returns:\n",
    "        tuple: Un tuple contenant la description des données, le mode et la médiane.\n",
    "    \"\"\"\n",
    "    stats_data = describe(data)\n",
    "    \n",
    "    hist_data, bin_edges_data = np.histogram(data, bins=50)\n",
    "    mode_index_data = np.argmax(hist_data)\n",
    "    mode_data = (bin_edges_data[mode_index_data] + bin_edges_data[mode_index_data + 1]) / 2\n",
    "    \n",
    "    median_data = np.median(data)\n",
    "    \n",
    "    return stats_data, mode_data, median_data\n",
    "\n",
    "def plot_histogram(ax, data, color, title, axe_title, stats, mode, median):\n",
    "    \"\"\"\n",
    "    Crée un histogramme et le plot sur l'axe spécifié.\n",
    "\n",
    "    Args:\n",
    "        ax (matplotlib.axes.Axes): L'axe sur lequel le graphique doit être tracé.\n",
    "        data (numpy.ndarray): Les données à représenter.\n",
    "        color (str): La couleur du graphique.\n",
    "        title (str): Le titre du graphique.\n",
    "        axe_title (str): Le titre de l'axe X.\n",
    "        stats (scipy.stats._stats.DescribeResult): La description statistique des données.\n",
    "        mode (float): La valeur du mode.\n",
    "        median (float): La valeur de la médiane.\n",
    "    \"\"\"\n",
    "    ax.hist(data, bins=50, color=color, alpha=0.7)\n",
    "    ax.set_title(title, fontsize=20)\n",
    "    ax.axvline(x=stats.mean, color='black', linestyle='solid', label=f'Moyenne: {stats.mean:.2e}')\n",
    "    ax.axvline(x=np.sqrt(stats.variance), color='orange', linestyle='dotted', label=f'Moyenne quadratique: {np.sqrt(stats.variance):.2e}')\n",
    "    ax.axvline(x=mode, color='green', linestyle='dashed', label=f'Mode: {mode:.2e}')\n",
    "    ax.axvline(x=median, color='purple', linestyle='dashdot', label=f'Médiane: {median:.2e}')\n",
    "    ax.legend(fontsize=14)\n",
    "    ax.tick_params(which=\"both\", axis=\"both\", direction=\"in\", labelsize=12)\n",
    "    ax.minorticks_on()\n",
    "    ax.set_ylabel(\"Nombre de particules [-]\", fontsize=16)\n",
    "    ax.set_xlabel(axe_title, fontsize=16)\n",
    "\n",
    "# Données de vélocité\n",
    "norms = np.array([np.sqrt(v.x**2 + v.y**2 + v.z**2) for v in velocities])\n",
    "squared_velocities = np.array([v.x**2 + v.y**2 + v.z**2 for v in velocities])\n",
    "squared_vx = np.array([v.x**2 for v in velocities])\n",
    "\n",
    "# Calcul des données et des statistiques\n",
    "data_list = [norms, squared_velocities, squared_vx]\n",
    "colors = [palette[0], \"red\", palette[2]]\n",
    "titles = [f\"Distribution de $||\\\\vec{{v}}||$\", f\"Distribution de $v^2$\", f\"Distribution de $v_x^2$\"]\n",
    "axes_titles = [f\"$||v||$ [m/s]\", f\"$v^2$ [m/s]$^2$\", f\"$v_x^2$ [m/s]$^2$\"]\n",
    "\n",
    "fig, axes = plt.subplots(3, 1, figsize=(10, 18))\n",
    "\n",
    "for i, data in enumerate(data_list):\n",
    "    stats, mode, median = calculate_statistics(data)\n",
    "    plot_histogram(axes[i], data, colors[i], titles[i], axes_titles[i], stats, mode, median)\n",
    "\n",
    "plt.tight_layout()\n",
    "plt.show()"
   ]
  },
  {
   "cell_type": "markdown",
   "metadata": {},
   "source": [
    "Les graphiques ci-dessus présentent distinctement la norme des vitesses selon la distribution de Maxwell-Boltzmann ($||v||$), ainsi que deux demi-gaussiennes ($v^2$ et $v_x^2$) accompagnées des données statistiques correspondantes.\n",
    "\n",
    "À présent, rassemblons les trois courbes normalisées sur un même graphique afin de les comparer."
   ]
  },
  {
   "cell_type": "code",
   "execution_count": null,
   "metadata": {},
   "outputs": [],
   "source": [
    "norms_normalized = norms / max(norms)\n",
    "squared_velocities_normalized = squared_velocities / max(squared_velocities)\n",
    "squared_vx_normalized = squared_vx / max(squared_vx)\n",
    "\n",
    "plt.figure(figsize=(10, 6))\n",
    "\n",
    "plt.hist(norms_normalized, bins=50, alpha=0.4, color=palette[0], label=f\"$||v||$\")\n",
    "plt.hist(squared_velocities_normalized, bins=50, alpha=0.4, color=\"red\", label=f\"$v^2$\")\n",
    "plt.hist(squared_vx_normalized, bins=50, alpha=0.4, color=palette[2], label=f\"$v_x^2$\")\n",
    "plt.legend(fontsize=16)\n",
    "plt.minorticks_on()\n",
    "plt.tick_params(which=\"both\", axis=\"both\", direction=\"in\", labelsize=12)\n",
    "plt.ylabel(\"Nombre de particules [-]\", fontsize=16)\n",
    "plt.xlabel(\"Distribution des composantes de vitesses normalisées [-]\", fontsize=16)\n",
    "plt.tight_layout()\n",
    "plt.show()"
   ]
  },
  {
   "cell_type": "markdown",
   "metadata": {},
   "source": [
    "**Bonus.** _(4 points)_ &mdash; Montrez que \n",
    "- (a) le théorème central limite est satisfait par une des distributions de vitesse du numéro précédent,\n",
    "- (b) le système simulé est ergodique."
   ]
  },
  {
   "cell_type": "markdown",
   "metadata": {},
   "source": [
    "### (a) Théorème Central Limite:\n",
    "Pour démontrer la satisfaction du théorème central limite, nous pouvons analyser la distribution de certaines compostantes des vitesses ($v_x$ et $v$) entre chaque paire de collisions. Selon le théorème central limite, la distribution échantillonnée d'un grand nombre de variables aléatoires indépendantes et identiquement distribuées sera normalement distribuée, pourvu que la taille de l'échantillon soit suffisamment grande. Cela est valable même si les variables d'origine ne suivent pas nécessairement une distribution normale, quelle que soit la forme de la population initiale."
   ]
  },
  {
   "cell_type": "code",
   "execution_count": null,
   "metadata": {},
   "outputs": [],
   "source": [
    "# Calcul des statistiques des vitesses\n",
    "vx = np.array([v.x for v in velocities])\n",
    "v = np.array([v.x + v.y + v.z for v in velocities])\n",
    "stats_vx, mode_vx, median_vx = calculate_statistics(vx)\n",
    "stats_v, mode_v, median_v = calculate_statistics(v)\n",
    "\n",
    "# Plot de l'histogramme de la norme des vitesses\n",
    "plt.figure(figsize=(10, 6))\n",
    "plt.hist(vx, bins=100, density=True, color=palette[0], alpha=0.4, label= f\"Données $v_x$\")\n",
    "plt.hist(v, bins=100, density=True, color=\"red\", alpha=0.4, label= f\"Données $v$\")\n",
    "plt.tick_params(which=\"both\", axis=\"both\", direction=\"in\", labelsize=12)\n",
    "plt.minorticks_on()\n",
    "plt.xlabel(\"Composante de vitesse [m/s]\", fontsize=14)\n",
    "plt.ylabel(\"Densité de probabilité [-]\", fontsize=14)\n",
    "plt.title(\"Ajustement de la distribution normale\", fontsize=16)\n",
    "\n",
    "# Ajustements des distributions normales\n",
    "xmin, xmax = plt.xlim()\n",
    "x = np.linspace(xmin, xmax, 1000)\n",
    "pdf_vx = norm.pdf(x, stats_vx.mean, np.sqrt(stats_vx.variance))\n",
    "pdf_v = norm.pdf(x, stats_v.mean, np.sqrt(stats_v.variance))\n",
    "plt.plot(x, pdf_vx, color=palette[0], linewidth=2, label=\"Densité de probabilité normale $v_x$\")\n",
    "plt.plot(x, pdf_v, color=\"red\", linewidth=2, label=\"Densité de probabilité normale $v$\")\n",
    "plt.legend(fontsize=12)\n",
    "plt.ticklabel_format(axis=\"y\", style=\"sci\", scilimits=(0,0))\n",
    "plt.show()"
   ]
  },
  {
   "cell_type": "markdown",
   "metadata": {},
   "source": [
    "En analysant l'histogramme présenté ci-dessus, nous remarquons la forme de cloche caractéristique, indicative d'une distribution normale. Cette tendance vers une distribution normale s'intensifie à mesure que le nombre d'itérations augmente et que les données statistiques convergent. En d'autres termes, l'approximation de la distribution de la norme de la vitesse par une distribution normale devient de plus en plus précise à mesure que le système évolue au fil du temps, confirmant ainsi la validité du théorème central limite.\n",
    "\n",
    "Par ailleurs, il est notable que la densité de probabilité atteint zéro pour une vitesse $v_x$ nulle. Cette occurrence découle du calcul de cette dernière à partir de la distance et du temps entre chaque collision, avec la particularité que la structure du code ne permet pas deux collisions successives à la même position absolue. Malgré cela, le profil global de la distribution normale de part et autre de $v_x=0$ demeure perceptible à un grand nombre d'itérations."
   ]
  },
  {
   "cell_type": "markdown",
   "metadata": {},
   "source": [
    "### (b) Ergodicité:"
   ]
  },
  {
   "cell_type": "markdown",
   "metadata": {},
   "source": [
    "Un système ergodique se caractérise par le fait que les propriétés statistiques déduites à partir d'une seule trajectoire temporelle convergent vers les propriétés moyennes du système calculées sur un ensemble significativement vaste de trajectoires indépendantes (Source : [ScienceDirect](https://www-sciencedirect-com.acces.bibl.ulaval.ca/topics/engineering/ergodicity#:~:text=1%20Ergodicity,accessible%20phase%20space%20over%20time)). En d'autres termes, en observant le comportement d'une seule trajectoire, nous pouvons obtenir des informations représentatives de l'ensemble du système sur une multitude de trajectoires distinctes.\n",
    "\n",
    "Pour vérifier cette caractéristique, nous pouvons analyser l'évolution de la norme des vitesses de la particule au fil du temps. Si, à mesure que le nombre d'itérations augmente, la moyenne des vitesses converge vers une valeur constante, cela indique que le système est ergodique."
   ]
  },
  {
   "cell_type": "code",
   "execution_count": null,
   "metadata": {},
   "outputs": [],
   "source": [
    "# Calcul des moyennes temporelles\n",
    "stats_norms, _, _ = calculate_statistics(norms)\n",
    "time_average_norms = np.cumsum(norms) / np.arange(1, len(norms) + 1)\n",
    "\n",
    "# Affichage de la convergence des moyennes temporelles et statistiques\n",
    "fig, ax = plt.subplots(figsize=(10, 6))\n",
    "ax.plot(np.arange(1, len(norms) + 1), time_average_norms, color=palette[2], label=\"Moyenne temporelle\")\n",
    "ax.axhline(y=stats_norms.mean, linestyle='dashed', color=palette[3], label=\"Moyenne statistique\")\n",
    "ax.set_xlabel(\"Nombre d'itérations [-]\", fontsize=16)\n",
    "ax.set_ylabel(\"$||\\\\vec{v}||$ [m/s]\", fontsize=16)\n",
    "ax.set_title(\"Évolution de la moyenne des vitesses de la particule\", fontsize=20)\n",
    "ax.tick_params(which=\"both\", axis=\"both\", direction=\"in\", labelsize=12)\n",
    "ax.minorticks_on()\n",
    "ax.legend(fontsize=14)\n",
    "plt.show()"
   ]
  },
  {
   "cell_type": "markdown",
   "metadata": {},
   "source": [
    "En observant la convergence des normes temporelles et statistiques de $||\\vec{v}||$, nous pouvons conclure que le système est ergodique. D'ailleurs, cette convergence est aussi observable pour toutes les autres composantes de vitesse."
   ]
  },
  {
   "cell_type": "markdown",
   "metadata": {
    "nteract": {
     "transient": {
      "deleting": false
     }
    }
   },
   "source": [
    "# Médiagraphie #\n",
    " - La simulation utilise la librairie <a href=\"https://vpython.org\">VPython</a> conçue pour faciliter la visualisation de physique en 3D, avec les instructions d’installation <a href=\"https://vpython.org/presentation2018/install.html\">ici</a> et la documentation <a href=\"https://www.glowscript.org/docs/VPythonDocs/index.html\">ici</a>. Le code adapte en 2D et commente en détail l’exemple <a href=\"https://www.glowscript.org/#/user/GlowScriptDemos/folder/Examples/program/HardSphereGas-VPython\">HardSphereGas-VPython</a> du site interactif <a href=\"https://www.glowscript.org\">GlowScript</a> pour programmer des animations avec VPython directement en ligne."
   ]
  }
 ],
 "metadata": {
  "kernelspec": {
   "display_name": "Python 3",
   "language": "python",
   "name": "python3"
  },
  "language_info": {
   "codemirror_mode": {
    "name": "ipython",
    "version": 3
   },
   "file_extension": ".py",
   "mimetype": "text/x-python",
   "name": "python",
   "nbconvert_exporter": "python",
   "pygments_lexer": "ipython3",
   "version": "3.10.4"
  }
 },
 "nbformat": 4,
 "nbformat_minor": 4
}
