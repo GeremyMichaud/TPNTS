{
 "cells": [
  {
   "cell_type": "markdown",
   "metadata": {},
   "source": [
    "# Gérémy Michaud"
   ]
  },
  {
   "cell_type": "markdown",
   "metadata": {},
   "source": [
    "<h1 style=\"text-align:center\">Travail pratique numérique en thermodynamique statistique</h1>\n",
    "<h2 style=\"text-align:center\">PARTIE 1 : Cinétique des gaz parfaits</h2>\n",
    "\n",
    "Veuillez indiquer le nom des membres de votre équipe dans la cellule suivante."
   ]
  },
  {
   "cell_type": "markdown",
   "metadata": {},
   "source": [
    "- Pierre-Olivier Desrosiers<br>\n",
    "- Nicolas Dorval<br>\n",
    "- Gérémy Michaud<br>\n",
    "- Félix-Antoine Dupuis"
   ]
  },
  {
   "cell_type": "markdown",
   "metadata": {},
   "source": [
    "# Atelier en classe : 31 janvier 2024 #\n",
    "### Discussion interdisciplinaire de sujets en probablilité & statistiques ###\n",
    "\n",
    "**Quelques fondements de mathématiques statistiques:** par exemple bien définir variables aléatoires, échantillon et population totale, estimateurs, fonction de distribution cumulative (répartition), densité de probabilité, moments, etc. - **Programme GPH**\n",
    "\n",
    "**Les distributions statistiques de particules indiscernables:** en particulier celle de Fermi-Dirac avec les notions de potentiel chimique et d’occupation des états en fonction de la température, en analogie avec le remplissage selon le principe principe d’Aufbau introduit en classe pour les atomes à température nulle. - **Programme PHY**\n",
    "\n",
    "**_Un point de bonus sera accordé à tous les étudiantes et étudiants qui participeront à l'atelier pour discuter des sujets ci-dessus et débuter le travail de la première partie ci-dessous._**"
   ]
  },
  {
   "cell_type": "markdown",
   "metadata": {
    "nteract": {
     "transient": {
      "deleting": false
     }
    }
   },
   "source": [
    "# Introduction #\n",
    "Ce travail révise d'abord quelques bases générales de mécanique statistique classique avec le script `TDSrevision-2Dsimulation.py` qui simule la théorie cinétique des gaz parfaits en 2D. Cette simulation utilise le concept de sphères dures, mais ici pour le cas des particules d'un gaz afin d'introduire des collisions élastiques entre elles sur leurs trajectoires ballistiques. Notez qu'une sphère est colorée et grossie seulement pour l’effet visuel dans l'animation, la physique de l’algorithme codé considère bien des particules totalement identiques. Les questions sur cette simulation, à répondre directement dans les cellules du carnet _(Notebook)_ ici-même, explorent quelques paramètres de la thermodynamique statistique et introduisent de nouveaux termes utiles à l'étude de la dynamique des électrons dans la matière.\n",
    "\n",
    "_N.B._ \n",
    "- _Pour montrer les animations à l'écran, le script `TDSrevision-2Dsimulation.py` importe la librairie `VPython` qu'il faut donc installer. Des liens vers sa documentation et de l'information complémentaire sont donnés dans la médiagraphie à la fin._\n",
    "- _Le code dans ce script est abusivement commenté dans notre contexte pédagogique, mais il serait bien sûr préférable de s’en tenir aux recommandations du <a href=\"https://www.python.org/dev/peps/pep-0008\"> PEP 8 — Style Guide for Python Code</a>._\n",
    "- _Notez finalement que la boucle principale à la fin du script laisse l'utilisateur voir l'animation aussi longtemps que souhaité, assurez-vous donc de savoir comment l'interrompre correctement avant de lancer la simulation ou de la remplacer par une boucle `for`._"
   ]
  },
  {
   "cell_type": "markdown",
   "metadata": {
    "nteract": {
     "transient": {
      "deleting": false
     }
    }
   },
   "source": [
    "# Cinétique CLASSIQUE des gaz parfaits #"
   ]
  },
  {
   "cell_type": "markdown",
   "metadata": {
    "nteract": {
     "transient": {
      "deleting": false
     }
    }
   },
   "source": [
    "### Simulation 2D ###"
   ]
  },
  {
   "cell_type": "code",
   "execution_count": 12,
   "metadata": {},
   "outputs": [],
   "source": [
    "from vpython import *\n",
    "from IPython.display import display, Math\n",
    "import numpy as np\n",
    "import math\n",
    "import matplotlib.pyplot as plt\n",
    "import keyboard\n",
    "import time"
   ]
  },
  {
   "cell_type": "markdown",
   "metadata": {},
   "source": [
    "Pour visualiser la simulation et consulter le code complet correspondant, veuillez exécuter le fichier ```TDS-2Dsimulation_H24.py```."
   ]
  },
  {
   "cell_type": "code",
   "execution_count": 13,
   "metadata": {},
   "outputs": [
    {
     "name": "stdout",
     "output_type": "stream",
     "text": [
      "--- 7.415 seconds ---\n"
     ]
    }
   ],
   "source": [
    "start_time = time.time()\n",
    "# Déclaration de variables influençant le temps d'exécution de la simulation\n",
    "Natoms = 200  # change this to have more or fewer atoms\n",
    "dt = 1E-5  # pas d'incrémentation temporel\n",
    "\n",
    "# Déclaration de variables physiques \"Typical values\"\n",
    "mass = 4E-3/6E23 # helium mass\n",
    "Ratom = 0.01 # wildly exaggerated size of an atom\n",
    "k = 1.4E-23 # Boltzmann constant\n",
    "T = 300 # around room temperature\n",
    "\n",
    "# CANEVAS DE FOND\n",
    "L = 1 # container is a cube L on a side\n",
    "\n",
    "# ARÊTES DE BOÎTE 2D\n",
    "d = L/2+Ratom\n",
    "r = 0.005\n",
    "\n",
    "# POSITION ET QUANTITÉ DE MOUVEMENT INITIALE DES SPHÈRES\n",
    "Atoms = [] # Objet qui contiendra les sphères pour l'animation\n",
    "p = [] # quantité de mouvement des sphères\n",
    "apos = [] # position des sphères\n",
    "pavg = sqrt(2*mass*1.5*k*T) #Principe de l'équipartition de l'énergie en thermodynamique statistique classique\n",
    "\n",
    "for i in range(Natoms):\n",
    "    x = L*random()-L/2 # position aléatoire qui tient compte que l'origine est au centre de la boîte\n",
    "    y = L*random()-L/2\n",
    "    z = 0\n",
    "    apos.append(vec(x,y,z)) # liste de la position initiale de toutes les sphères\n",
    "    phi = 2*pi*random() # direction aléatoire pour la quantité de mouvement\n",
    "    px = pavg*cos(phi)  # quantité de mvt initiale selon l'équipartition\n",
    "    py = pavg*sin(phi)\n",
    "    pz = 0\n",
    "    p.append(vector(px,py,pz)) # liste de la quantité de mvt initiale de toutes les sphères\n",
    "\n",
    "# FONCTION POUR IDENTIFIER LES COLLISIONS, I.E. LORSQUE LA DISTANCE ENTRE LES CENTRES DE 2 SPHÈRES EST À LA LIMITE DE S'INTERPÉNÉTRER\n",
    "def checkCollisions():\n",
    "    hitlist = []   # initialisation\n",
    "    r2 = 2*Ratom   # distance critique où les 2 sphères entre en contact à la limite de leur rayon\n",
    "    r2 *= r2   # produit scalaire pour éviter une comparaison vectorielle ci-dessous\n",
    "    for i in range(Natoms):\n",
    "        ai = apos[i]\n",
    "        for j in range(i) :\n",
    "            aj = apos[j]\n",
    "            dr = ai - aj   # la boucle dans une boucle itère pour calculer cette distance vectorielle dr entre chaque paire de sphère\n",
    "            if mag2(dr) < r2:   # test de collision où mag2(dr) qui retourne la norme élevée au carré de la distance intersphère dr\n",
    "                hitlist.append([i,j]) # liste numérotant toutes les paires de sphères en collision\n",
    "    return hitlist\n",
    "\n",
    "iterations = 500\n",
    "for i in range(iterations):\n",
    "    if keyboard.is_pressed('q'):\n",
    "        run = False\n",
    "    # DÉPLACE TOUTES LES SPHÈRES D'UN PAS SPATIAL deltax\n",
    "    vitesse = []   # vitesse instantanée de chaque sphère\n",
    "    deltax = []  # pas de position de chaque sphère correspondant à l'incrément de temps dt\n",
    "    for i in range(Natoms):\n",
    "        vitesse.append(p[i]/mass)   # par définition de la quantité de nouvement pour chaque sphère\n",
    "        deltax.append(vitesse[i] * dt)   # différence avant pour calculer l'incrément de position\n",
    "        apos[i] = apos[i] + deltax[i]  # nouvelle position de l'atome après l'incrément de temps dt\n",
    "\n",
    "    # CONSERVE LA QUANTITÉ DE MOUVEMENT AUX COLLISIONS AVEC LES PAROIS DE LA BOÎTE\n",
    "    for i in range(Natoms):\n",
    "        loc = apos[i]\n",
    "        if abs(loc.x) > L/2:\n",
    "            if loc.x < 0: p[i].x =  abs(p[i].x)  # renverse composante x à la paroi de gauche\n",
    "            else: p[i].x =  -abs(p[i].x)   # renverse composante x à la paroi de droite\n",
    "        if abs(loc.y) > L/2:\n",
    "            if loc.y < 0: p[i].y = abs(p[i].y)  # renverse composante y à la paroi du bas\n",
    "            else: p[i].y =  -abs(p[i].y)  # renverse composante y à la paroi du haut\n",
    "\n",
    "    # LET'S FIND THESE COLLISIONS!!!\n",
    "    hitlist = checkCollisions()\n",
    "\n",
    "    # CONSERVE LA QUANTITÉ DE MOUVEMENT AUX COLLISIONS ENTRE SPHÈRES\n",
    "    for ij in hitlist:\n",
    "\n",
    "        # définition de nouvelles variables pour chaque paire de sphères en collision\n",
    "        i = ij[0]  # extraction du numéro des 2 sphères impliquées à cette itération\n",
    "        j = ij[1]\n",
    "        ptot = p[i]+p[j]   # quantité de mouvement totale des 2 sphères\n",
    "        mtot = 2*mass    # masse totale des 2 sphères\n",
    "        Vcom = ptot/mtot   # vitesse du référentiel barycentrique/center-of-momentum (com) frame\n",
    "        posi = apos[i]   # position de chacune des 2 sphères\n",
    "        posj = apos[j]\n",
    "        vi = p[i]/mass   # vitesse de chacune des 2 sphères\n",
    "        vj = p[j]/mass\n",
    "        rrel = posi-posj  # vecteur pour la distance entre les centres des 2 sphères\n",
    "        vrel = vj-vi   # vecteur pour la différence de vitesse entre les 2 sphères\n",
    "\n",
    "        # exclusion de cas où il n'y a pas de changements à  faire\n",
    "        if vrel.mag2 == 0: continue  # exactly same velocities si et seulement si le vecteur vrel devient nul, la trajectoire des 2 sphères continue alors côte à côte\n",
    "        if rrel.mag > Ratom: continue  # one atom went all the way through another, la collision a été \"manquée\" à l'intérieur du pas deltax\n",
    "\n",
    "        # calcule la distance et temps d'interpénétration des sphères dures qui ne doit pas se produire dans ce modèle\n",
    "        dx = dot(rrel, vrel.hat)       # rrel.mag*cos(theta) où theta is the angle between vrel and rrel:\n",
    "        dy = cross(rrel, vrel.hat).mag # rrel.mag*sin(theta)\n",
    "        alpha = asin(dy/(2*Ratom))  # alpha is the angle of the triangle composed of rrel, path of atom j, and a line from the center of atom i to the center of atom j where atome j hits atom i\n",
    "        d = (2*Ratom)*cos(alpha)-dx # distance traveled into the atom from first contact\n",
    "        deltat = d/vrel.mag         # time spent moving from first contact to position inside atom\n",
    "\n",
    "        # CHANGE L'INTERPÉNÉTRATION DES SPHÈRES PAR LA CINÉTIQUE DE COLLISION\n",
    "        posi = posi-vi*deltat   # back up to contact configuration\n",
    "        posj = posj-vj*deltat\n",
    "        pcomi = p[i]-mass*Vcom  # transform momenta to center-of-momentum (com) frame\n",
    "        pcomj = p[j]-mass*Vcom\n",
    "        rrel = hat(rrel)    # vecteur unitaire aligné avec rrel\n",
    "        pcomi = pcomi-2*dot(pcomi,rrel)*rrel # bounce in center-of-momentum (com) frame\n",
    "        pcomj = pcomj-2*dot(pcomj,rrel)*rrel\n",
    "        p[i] = pcomi+mass*Vcom # transform momenta back to lab frame\n",
    "        p[j] = pcomj+mass*Vcom\n",
    "        apos[i] = posi+(p[i]/mass)*deltat # move forward deltat in time, ramenant au même temps où sont rendues les autres sphères dans l'itération\n",
    "        apos[j] = posj+(p[j]/mass)*deltat\n",
    "        \n",
    "print(\"--- %.3f seconds ---\" % (time.time() - start_time))"
   ]
  },
  {
   "cell_type": "markdown",
   "metadata": {},
   "source": [
    "### Questions statistiques ###"
   ]
  },
  {
   "cell_type": "markdown",
   "metadata": {},
   "source": [
    "**I.** _(3 points)_  &mdash; Utilisez la liste finale des vecteurs de quantité de mouvement $\\vec{p}$ de toutes les sphères pour trouver la moyenne de son carré $\\langle p^2\\rangle=\\langle\\vec{p}\\cdot\\vec{p}\\rangle$ et l'imprimer avec la fonction `print()` dans la cellule qui suit. "
   ]
  },
  {
   "cell_type": "code",
   "execution_count": 14,
   "metadata": {},
   "outputs": [
    {
     "data": {
      "text/latex": [
       "$\\displaystyle \\langle p^2 \\rangle \\approx 8.400e-47$"
      ],
      "text/plain": [
       "<IPython.core.display.Math object>"
      ]
     },
     "metadata": {},
     "output_type": "display_data"
    }
   ],
   "source": [
    "p_squared_avg = sum([mag2(pi) for pi in p]) / Natoms\n",
    "display(Math(f'\\\\langle p^2 \\\\rangle \\\\approx {p_squared_avg:.3e}'))"
   ]
  },
  {
   "cell_type": "markdown",
   "metadata": {},
   "source": [
    "**II.** _(2 points)_  &mdash; La température $T$ (macroscopique) est proportionnelle à l'énergie cinétique moyenne $E_{cin}$ de l'ensemble des particules lorsque ce système est rendu à l'équilibre. Celle-ci peut se calculer classiquement selon son <a href=\"https://fr.wikipedia.org/wiki/%C3%89quipartition_de_l%27%C3%A9nergie\">principe d'équipartition</a>, _i.e._ répartissant l'énergie également sur chaque degré de liberté ici en translation seulement, d'où au total pour $i=1,2\\text{ ou } 3$ dimensions d'espace réel\n",
    "\\begin{equation}\n",
    "E_{cin}=\\frac{\\langle p^2 \\rangle}{2m}=i\\times\\frac{1}{2}k_BT\n",
    "\\end{equation}\n",
    "avec $k_B$, la constante de Boltzmann et $m$, la masse de chaque particule. Quelle est la température du gaz de sphères dures à la fin de la simulation? Est-ce qu'elle a changé significativement par rapport à sa valeur initiale?"
   ]
  },
  {
   "cell_type": "markdown",
   "metadata": {},
   "source": [
    "Dans notre cas, nous travaillons en 2D ($i = 2$) et la masse $m$ est constante. En réarrangeant l'équation pour résoudre pour la température $T_{final}$, nous obtenons :\n",
    "\\begin{equation}\n",
    "T_{final} = \\frac{\\langle p^2 \\rangle}{2mk_B}\n",
    "\\end{equation}"
   ]
  },
  {
   "cell_type": "code",
   "execution_count": 15,
   "metadata": {},
   "outputs": [
    {
     "name": "stdout",
     "output_type": "stream",
     "text": [
      "Température initiale: 300.000 K\n",
      "Température initiale: 450.000 K\n",
      "La température finale est donc 1.50 fois plus élevée que la température initiale\n"
     ]
    }
   ],
   "source": [
    "T_final = p_squared_avg / (2*mass*k)\n",
    "print(f\"Température initiale: {T:.3f} K\")\n",
    "print(f\"Température initiale: {T_final:.3f} K\")\n",
    "print(f\"La température finale est donc {T_final/T:.2f} fois plus élevée que la température initiale\")"
   ]
  },
  {
   "cell_type": "markdown",
   "metadata": {
    "nteract": {
     "transient": {
      "deleting": false
     }
    }
   },
   "source": [
    "**III.** _(10 points)_ &mdash; Modifiez le code de la simulation pour ajouter une fonction qui suit la trajectoire d'UNE SEULE particule, c'est-à-dire qu'elle doit enregistrer, dans une liste, des valeurs de variables pour cette particule et ce, à chacune de ses collisions avec une autre particule (_i.e._ excluez les collisions avec les parois de la boîte). Les deux variables scalaires à lister sont:\n",
    "- la distance que la particule a parcouru entre chaque collision,\n",
    "- le temps écoulé entre ces collisions.\n",
    "\n",
    "Copiez le code de votre fonction dans la cellule qui suit en y commentant clairement les variables pour ces listes qui devront persister après avoir interrompu l'exécution de la simulation. N'oubliez pas d'inclure votre fichier Python (`.py`) modifié avec la simulation complète lors de la remise."
   ]
  },
  {
   "cell_type": "code",
   "execution_count": null,
   "metadata": {
    "nteract": {
     "transient": {
      "deleting": false
     }
    }
   },
   "outputs": [],
   "source": []
  },
  {
   "cell_type": "markdown",
   "metadata": {
    "nteract": {
     "transient": {
      "deleting": false
     }
    }
   },
   "source": [
    "**IV.** _(2 points)_ &mdash; Calculez le **libre parcours moyen** $l_{moy}$ et le **temps de collision** $\\tau$ qui sont les valeurs moyennes des deux listes compilées au numéro précédent.\n",
    "\n",
    "_(Pour votre information, le libre parcours moyen est de l’ordre de 100 nm dans l'air à température et pression ambiantes, mais_ $l_{moy}$ _peut dépasser 100 000 km dans une enceinte sous vide avec les technologies de pompes modernes!)_\n",
    "\n"
   ]
  },
  {
   "cell_type": "code",
   "execution_count": 16,
   "metadata": {
    "nteract": {
     "transient": {
      "deleting": false
     }
    }
   },
   "outputs": [],
   "source": [
    "\n",
    "#"
   ]
  },
  {
   "cell_type": "markdown",
   "metadata": {
    "nteract": {
     "transient": {
      "deleting": false
     }
    }
   },
   "source": [
    "**V.** _(2 points)_ Calculez la vitesse $\\vec{v}$ de la particule entre chaque paire de collisions. Quelle est la vitesse moyenne $\\langle\\vec{v}\\rangle$ de la particule?"
   ]
  },
  {
   "cell_type": "code",
   "execution_count": 17,
   "metadata": {
    "nteract": {
     "transient": {
      "deleting": false
     }
    }
   },
   "outputs": [],
   "source": [
    "\n",
    "#"
   ]
  },
  {
   "cell_type": "markdown",
   "metadata": {
    "nteract": {
     "transient": {
      "deleting": false
     }
    }
   },
   "source": [
    "**VI.** _(5 points)_ &mdash; Pour cette même liste de vitesses, comparez les distributions de la norme $||\\vec{v}||$, du carré $v^2$ et d’une de ses composantes $v_x^2$ en étalonnant l’abscisse pour contraster les histogrammes avec une échelle appropriée. Indiquez sur ce graphique la moyenne, le mode, la médiane et la moyenne quadratique des distributions."
   ]
  },
  {
   "cell_type": "code",
   "execution_count": 18,
   "metadata": {
    "nteract": {
     "transient": {
      "deleting": false
     }
    }
   },
   "outputs": [],
   "source": [
    "\n",
    "#"
   ]
  },
  {
   "cell_type": "markdown",
   "metadata": {},
   "source": [
    "**Bonus.** _(4 points)_ &mdash; Montrez que \n",
    "- (a) le théorème central limite est satisfait par une des distributions de vitesse du numéro précédent,\n",
    "- (b) le système simulé est ergodique."
   ]
  },
  {
   "cell_type": "code",
   "execution_count": 19,
   "metadata": {
    "nteract": {
     "transient": {
      "deleting": false
     }
    }
   },
   "outputs": [],
   "source": [
    "\n",
    "#"
   ]
  },
  {
   "cell_type": "markdown",
   "metadata": {
    "nteract": {
     "transient": {
      "deleting": false
     }
    }
   },
   "source": [
    "# Médiagraphie #\n",
    " - La simulation utilise la librairie <a href=\"https://vpython.org\">VPython</a> conçue pour faciliter la visualisation de physique en 3D, avec les instructions d’installation <a href=\"https://vpython.org/presentation2018/install.html\">ici</a> et la documentation <a href=\"https://www.glowscript.org/docs/VPythonDocs/index.html\">ici</a>. Le code adapte en 2D et commente en détail l’exemple <a href=\"https://www.glowscript.org/#/user/GlowScriptDemos/folder/Examples/program/HardSphereGas-VPython\">HardSphereGas-VPython</a> du site interactif <a href=\"https://www.glowscript.org\">GlowScript</a> pour programmer des animations avec VPython directement en ligne."
   ]
  }
 ],
 "metadata": {
  "kernelspec": {
   "display_name": "project",
   "language": "python",
   "name": "project"
  },
  "language_info": {
   "codemirror_mode": {
    "name": "ipython",
    "version": 3
   },
   "file_extension": ".py",
   "mimetype": "text/x-python",
   "name": "python",
   "nbconvert_exporter": "python",
   "pygments_lexer": "ipython3",
   "version": "3.8.10"
  }
 },
 "nbformat": 4,
 "nbformat_minor": 4
}
