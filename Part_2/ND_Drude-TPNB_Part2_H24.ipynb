{
 "cells": [
  {
   "cell_type": "markdown",
   "metadata": {},
   "source": [
    "# Nicolas Dorval"
   ]
  },
  {
   "cell_type": "markdown",
   "metadata": {},
   "source": [
    "<h1 style=\"text-align:center\">Travail pratique numérique en thermodynamique statistique</h1>\n",
    "<h2 style=\"text-align:center\">PARTIE 2 : Modèle de Drude</h2>\n",
    "\n",
    "Veuillez indiquer le nom des membres de votre équipe dans la cellule suivante."
   ]
  },
  {
   "cell_type": "markdown",
   "metadata": {},
   "source": [
    "- Pierre-Olivier Desrosiers<br>\n",
    "- Nicolas Dorval<br>\n",
    "- Gérémy Michaud<br>\n",
    "- Félix-Antoine Dupuis"
   ]
  },
  {
   "cell_type": "markdown",
   "metadata": {
    "nteract": {
     "transient": {
      "deleting": false
     }
    }
   },
   "source": [
    "# Introduction # \n",
    "Cette deuxième partie du travail implémente une simulation 2D du modèle de Drude pour décrire le mouvement des électrons libres et indépendants dans les métaux. Des sphères dures sont encore utilisées pour représenter les particules, mais maintenant de deux types différents afin de différencier les coeurs ioniques immobiles des électrons sur leurs trajectoires balistiques. Les collisions entre les deux doivent donc être inélastiques. Les questions sur cette simulation, d'abord de cinétique puis de dynamique des électrons en présence d'une force externe appliquée au cristal, vérifieront quelques résultats analytiques du modèle de Drude obtenus en classe et/ou dans le manuel de cours Ashcroft/Mermin.\n",
    "\n",
    "- **La remise du présent _Jupyter Notebook_ ET celui de la 1<sup>re</sup> partie, ainsi que tout autre fichier de code produit, se fait sur Gradescope en n'oubliant pas d'y indiquer tous les membres de votre équipe.**"
   ]
  },
  {
   "cell_type": "code",
   "execution_count": 1,
   "metadata": {},
   "outputs": [
    {
     "data": {
      "text/html": [
       "<div id=\"glowscript\" class=\"glowscript\"></div>"
      ],
      "text/plain": [
       "<IPython.core.display.HTML object>"
      ]
     },
     "metadata": {},
     "output_type": "display_data"
    },
    {
     "data": {
      "application/javascript": "if (typeof Jupyter !== \"undefined\") { window.__context = { glowscript_container: $(\"#glowscript\").removeAttr(\"id\")};}else{ element.textContent = ' ';}",
      "text/plain": [
       "<IPython.core.display.Javascript object>"
      ]
     },
     "metadata": {},
     "output_type": "display_data"
    }
   ],
   "source": [
    "from numpy import *\n",
    "import random\n",
    "from vpython import *\n",
    "from IPython.display import display, Math\n",
    "import math\n",
    "import matplotlib.pyplot as plt\n",
    "import time"
   ]
  },
  {
   "cell_type": "markdown",
   "metadata": {},
   "source": [
    "Faites une copie du script `TDS-2Dsimulation_HXX.py` et modifiez-le pour obtenir une simulation cinétique d'un gaz d'électrons libres dans la matière cristalline selon le modèle de Drude. Spécifiquement selon les pp.4-6 du manuel Ashcroft/Mermin,\n",
    "1. ajoutez un deuxième type de sphères fixes réparties périodiquement dans la boîte d'animation: celles-ci représenteront les coeurs ioniques,\n",
    "2. éliminez les collisions entre les sphères mobiles qui représentent maintenant les électrons de conduction indépendants et libres,\n",
    "3. en faisant appel à la température du gaz, ajoutez des collisions inélastiques entre les électrons libres et les coeurs ioniques fixes. La quantité de mouvement $\\vec{p}$ n'est alors PAS conservée et il faut appliquer les hypothèses spécifiques du modèle de Drude à la sortie de chaque collision, notamment: \n",
    "- la direction de $\\vec{p}$ doit être aléatoire,\n",
    "- la norme $||\\vec{p}||$ est déterminée par la distribution de Maxwell-Boltzmann."
   ]
  },
  {
   "cell_type": "code",
   "execution_count": null,
   "metadata": {},
   "outputs": [],
   "source": [
    "import matplotlib.pyplot as plt\n",
    "import numpy as np\n",
    "from scipy.optimize import curve_fit"
   ]
  },
  {
   "cell_type": "markdown",
   "metadata": {},
   "source": [
    "### Votre simulation ###"
   ]
  },
  {
   "cell_type": "markdown",
   "metadata": {},
   "source": [
    "VII. _(25 points)_ &mdash; Écrivez un appel de votre nouveau script pour l'exécuter avec la cellule suivante:"
   ]
  },
  {
   "cell_type": "code",
   "execution_count": null,
   "metadata": {},
   "outputs": [],
   "source": [
    "#Code de GM (test4) modifié légèrement pour la question 10\n",
    "# Created on Fri Feb 5 15:40:27 2021\n",
    "# GlowScript 3.0 VPython\n",
    "\n",
    "# Hard-sphere gas.\n",
    "\n",
    "# Bruce Sherwood\n",
    "# Claudine Allen\n",
    "\n",
    "from vpython import *\n",
    "import numpy as np\n",
    "import math\n",
    "import matplotlib.pyplot as plt\n",
    "from scipy.stats import maxwell\n",
    "\n",
    "def Simulation(champ, iterations):\n",
    "    # Déclaration de variables influençant le temps d'exécution de la simulation\n",
    "    Natoms = 100  # change this to have more or fewer atoms\n",
    "    Ncoeur_coter = 8\n",
    "    dt = 1E-5  # pas d'incrémentation temporel\n",
    "\n",
    "    # Déclaration de variables physiques \"Typical values\"\n",
    "    mass = 4E-3/6E23  # helium mass\n",
    "    Ratom = 0.01  # wildly exaggerated size of an atom\n",
    "    Rcoeur = 0.03\n",
    "    k = 1.4E-23  # Boltzmann constant # TODO: changer pour une constante de Boltzmann en eV/K :)\n",
    "    T = 300  # around room temperature\n",
    "    q = 1.602e-19\n",
    "\n",
    "    # CANEVAS DE FOND\n",
    "    L = 1  # container is a cube L on a side\n",
    "    gray = color.gray(0.7)  # color of edges of container and spheres below\n",
    "    animation = canvas(width=750, height=500)  # , align='left')\n",
    "    animation.range = L\n",
    "\n",
    "    # ARÊTES DE BOÎTE 2D\n",
    "    d = L/2+Ratom\n",
    "    r = 0.005\n",
    "    cadre = curve(color=gray, radius=r)\n",
    "    cadre.append([vector(-d, -d, 0), vector(d, -d, 0), vector(d, d, 0), vector(-d, d, 0), vector(-d, -d, 0)])\n",
    "\n",
    "    # POSITION ET QUANTITÉ DE MOUVEMENT INITIALE DES SPHÈRES\n",
    "    Atoms = []  # Objet qui contiendra les sphères pour l'animation\n",
    "    Coeur = []  # Objet qui contiendra les\n",
    "    p = []  # quantité de mouvement des sphères\n",
    "    apos = []  # position des sphères\n",
    "    cpos = []  # position des coeurs\n",
    "    pavg = sqrt(2*mass*1.5*k*T)  # average kinetic energy p**2/(2mass) = (3/2)kT\n",
    "\n",
    "    # Création de coordonée pour les sphère fixes\n",
    "    for i in range(Ncoeur_coter):  # Nombre de ligne\n",
    "        for n in range(Ncoeur_coter):  # Nombre de ligne\n",
    "            x = i*L/(Ncoeur_coter-1)-L/2  # position d'un coeur en tenant compte de l'origine au centre de la boîte\n",
    "            y = n*L/(Ncoeur_coter-1)-L/2\n",
    "            z = 0\n",
    "            Coeur.append(simple_sphere(pos=vector(x, y, z), radius=Rcoeur, color=color.red))\n",
    "            cpos.append(vec(x, y, z))\n",
    "\n",
    "    for i in range(Natoms):\n",
    "        x = L*random()-L/2  # position aléatoire qui tient compte que l'origine est au centre de la boîte\n",
    "        y = L*random()-L/2\n",
    "        z = 0\n",
    "        if i == 0:\n",
    "            Atoms.append(simple_sphere(pos=vector(x, y, z), radius=0.03, color=color.magenta))\n",
    "        else:\n",
    "            Atoms.append(simple_sphere(pos=vector(x, y, z), radius=Ratom, color=gray))\n",
    "        apos.append(vec(x, y, z))\n",
    "\n",
    "        phi = 2*pi*random()  # direction aléatoire pour la quantité de mouvement\n",
    "        px = pavg*cos(phi)  # qte de mvt initiale selon l'équipartition\n",
    "        py = pavg*sin(phi)\n",
    "        pz = 0\n",
    "        p.append(vector(px, py, pz))  # liste de la quantité de mouvement initiale de toutes les sphères\n",
    "\n",
    "    # FONCTION POUR IDENTIFIER LES COLLISIONS\n",
    "    def checkCollisions():\n",
    "        hitlist = []  # initialisation\n",
    "        r2 = Ratom + Rcoeur  # distance critique où les 2 sphères entre en contact à la limite de leur rayon\n",
    "        r2 *= r2\n",
    "        for i in range(Ncoeur_coter**2):\n",
    "            ci = cpos[i]\n",
    "            for j in range(Natoms):\n",
    "                aj = apos[j]\n",
    "                dr = ci - aj\n",
    "                if mag2(dr) < r2:\n",
    "                    hitlist.append([i, j])\n",
    "        return hitlist\n",
    "\n",
    "    # BOUCLE PRINCIPALE POUR L'ÉVOLUTION TEMPORELLE DE PAS dt\n",
    "    it = 0\n",
    "    collision = 0\n",
    "    liste_p = []\n",
    "    liste_p_avg = []\n",
    "    liste_pos_avg_y = []\n",
    "    liste_pos_avg_x = []\n",
    "\n",
    "    for i in range(iterations):\n",
    "        rate(100)  # limite la vitesse de calcul de la simulation pour que l'animation soit visible à l'oeil humain!\n",
    "\n",
    "        pavg = np.mean(np.array([nb_p.mag for nb_p in p]))  # remodifie la valeur du p average pour chaque itéreation\n",
    "        posavgy = np.mean(np.array([pos.y for pos in apos]))\n",
    "        posavgx = np.mean(np.array([pos.x for pos in apos]))\n",
    "\n",
    "\n",
    "        # DÉPLACE TOUTES LES SPHÈRES D'UN PAS SPATIAL deltax\n",
    "        vitesse = []  # vitesse instantanée de chaque sphère\n",
    "        deltax = []  # pas de position de chaque sphère correspondant à l'incrément de temps dt\n",
    "        for i in range(Natoms):\n",
    "            vitesse.append(p[i]/mass)\n",
    "            deltax.append(vitesse[i] * dt)\n",
    "            Atoms[i].pos = apos[i] = apos[i] + deltax[i]\n",
    "\n",
    "        # CONSERVE LA QUANTITÉ DE MOUVEMENT AUX COLLISIONS AVEC LES MURS DE LA BOÎTE\n",
    "        for i in range(Natoms):\n",
    "            loc = apos[i]\n",
    "            if abs(loc.x) > L/2:\n",
    "                if loc.x < 0:\n",
    "                    p[i].x = abs(p[i].x)\n",
    "                else:\n",
    "                    p[i].x = -abs(p[i].x)\n",
    "            if abs(loc.y) > L/2:\n",
    "                if loc.y < 0:\n",
    "                    p[i].y = abs(p[i].y)\n",
    "                else:\n",
    "                    p[i].y = -abs(p[i].y)\n",
    "                p[i].y += q * champ * dt\n",
    "\n",
    "        # LET'S FIND THESE COLLISIONS!!!\n",
    "        hitlist = checkCollisions()\n",
    "\n",
    "        liste_p_avg.append(pavg)\n",
    "        liste_pos_avg_y.append(posavgy)\n",
    "        liste_pos_avg_x.append(posavgx)\n",
    "        collision += len(hitlist)\n",
    "\n",
    "        temperature = pavg**2/(3*k*mass)\n",
    "        # CONSERVE LA QUANTITÉ DE MOUVEMENT AUX COLLISIONS ENTRE SPHÈRES\n",
    "        for ij in hitlist:\n",
    "            i = ij[1]\n",
    "            j = ij[0]\n",
    "            posi = apos[i]\n",
    "            posj = cpos[j]\n",
    "            vi = p[i]/mass\n",
    "            rrel = hat(posi-posj)\n",
    "            vrel = vi\n",
    "\n",
    "            dx = dot(posi-posj, vrel.hat)\n",
    "            dy = cross(posi-posj, vrel.hat).mag\n",
    "            alpha = asin(dy/(Ratom+Rcoeur))\n",
    "            d = (Ratom+Rcoeur)*cos(alpha)-dx\n",
    "            deltat = d/vrel.mag\n",
    "\n",
    "            # CHANGE L'INTERPÉNÉTRATION DES SPHÈRES PAR LA CINÉTIQUE DE COLLISION\n",
    "            angle = pi*(random()-1/2)\n",
    "            norm_p = mass*maxwell.rvs(scale=sqrt(k*temperature/mass))\n",
    "            p[i] = norm_p * hat(rotate(rrel, angle=angle))\n",
    "            apos[i] = posi+(posi-posj)*deltat\n",
    "\n",
    "            liste_p.append(p[i].mag)\n",
    "\n",
    "        it += 1\n",
    "    return [liste_p_avg, liste_pos_avg_y, liste_pos_avg_x]"
   ]
  },
  {
   "cell_type": "code",
   "execution_count": null,
   "metadata": {},
   "outputs": [],
   "source": [
    "nbre_iter = 700\n",
    "liste_p_avg, liste_pos_avg_y, liste_pos_avg_x = Simulation(0, nbre_iter)"
   ]
  },
  {
   "cell_type": "markdown",
   "metadata": {},
   "source": [
    "### Question statistique ###"
   ]
  },
  {
   "cell_type": "markdown",
   "metadata": {},
   "source": [
    "VIII. _(5 points)_ &mdash; Vérifiez numériquement et graphiquement que l'amortissement de la quantité de mouvement moyenne des électrons suit l'équation exponentielle dérivée analytiquement en classe, soit $\\langle p(t)\\rangle =\\langle p(t_0)\\rangle \\,e^{-t/\\tau}$, et comparez-y le comportement d'un seul électron."
   ]
  },
  {
   "cell_type": "code",
   "execution_count": null,
   "metadata": {},
   "outputs": [],
   "source": [
    "iterations = np.linspace(0, nbre_iter, nbre_iter)\n",
    "p_init = liste_p_avg[0]\n",
    "modele = lambda t, tau: p_init*np.exp(-t/tau)\n",
    "popt, pcov = curve_fit(modele, iterations, liste_p_avg)\n",
    "plt.figure(figsize=(8, 6))\n",
    "plt.plot(iterations, liste_p_avg, label=\"Simulation\")\n",
    "plt.plot(iterations, modele(iterations, popt), label=\"Modèle\")\n",
    "plt.legend()\n",
    "plt.xlabel(\"Itérations\")\n",
    "plt.ylabel(\"p(t) [kg m/s]\")\n",
    "plt.show()"
   ]
  },
  {
   "cell_type": "markdown",
   "metadata": {},
   "source": [
    "### Dynamique sous l'effet d'une force externe ###"
   ]
  },
  {
   "cell_type": "markdown",
   "metadata": {},
   "source": [
    "IX. _(10 points)_ &mdash; Pour passer de la cinétique à la dynamique des électrons libres, modifiez votre code de simulation en ajoutant une fonction qui applique un champ électrique uniforme. Celui-ci devra être de module ajustable et perpendiculaire à deux des côtés de la boîte. À chaque pas de temps $\\mathrm{d}t$ sans collision, les électrons devront donc accélérer d'un incrément $\\mathrm{d}p_x$ dicté par la force de Coulomb à leur position.\n",
    "\n",
    "Copiez le code de votre fonction dans la cellule qui suit en n'oubliant pas d'inclure votre fichier Python (`.py`) modifié avec la simulation complète lors de la remise."
   ]
  },
  {
   "cell_type": "code",
   "execution_count": null,
   "metadata": {},
   "outputs": [],
   "source": []
  },
  {
   "cell_type": "markdown",
   "metadata": {},
   "source": [
    "### Question statistique ###"
   ]
  },
  {
   "cell_type": "markdown",
   "metadata": {},
   "source": [
    "X. _(5 points)_ &mdash; Pour quelques différents modules de champ électrique, présentez graphiquement l'évolution de la position moyenne des électrons en fonction du temps pour ses deux composantes parallèle et perpendiculaire au champ."
   ]
  },
  {
   "cell_type": "code",
   "execution_count": null,
   "metadata": {},
   "outputs": [],
   "source": [
    "liste_p_avg_1, liste_pos_avg_y_1, liste_pos_avg_x_1 = Simulation(0, nbre_iter)\n",
    "liste_p_avg_2, liste_pos_avg_y_2, liste_pos_avg_x_2 = Simulation(1, nbre_iter)\n",
    "liste_p_avg_3, liste_pos_avg_y_3, liste_pos_avg_x_3 = Simulation(2, nbre_iter)\n",
    "\n",
    "iterations = np.linspace(0, nbre_iter, nbre_iter)\n",
    "\n",
    "fig, axs = plt.subplots(2)\n",
    "plt.subplots_adjust(left=0.15, bottom=0.1, right=0.95, top=0.9, wspace=0.4, hspace=0.5)\n",
    "\n",
    "axs[0].plot(iterations, liste_pos_avg_y_1)\n",
    "axs[0].plot(iterations, liste_pos_avg_y_2)\n",
    "axs[0].plot(iterations, liste_pos_avg_y_3)\n",
    "\n",
    "axs[1].plot(iterations, liste_pos_avg_x_1)\n",
    "axs[1].plot(iterations, liste_pos_avg_x_2)\n",
    "axs[1].plot(iterations, liste_pos_avg_x_3)\n",
    "\n",
    "axs[0].legend([\"Champ électrique nul\", \"Champ électrique de module 1\", \"Champ électrique de module 2\"], loc=\"upper left\")\n",
    "axs[0].set_xlabel(\"Itérations\")\n",
    "axs[0].set_ylabel(\"Position moyenne\")\n",
    "axs[0].title.set_text(\"Position moyenne parallèle (y) au champ électrique\")\n",
    "\n",
    "axs[1].legend([\"Champ électrique nul\", \"Champ électrique de module 1\", \"Champ électrique de module 2\"], loc=\"upper left\")\n",
    "axs[1].set_xlabel(\"Itérations\")\n",
    "axs[1].set_ylabel(\"Position moyenne\")\n",
    "axs[1].title.set_text(\"Position moyenne parallèle (x) au champ électrique\")\n",
    "plt.show()"
   ]
  },
  {
   "cell_type": "markdown",
   "metadata": {
    "nteract": {
     "transient": {
      "deleting": false
     }
    }
   },
   "source": [
    "# Médiagraphie #\n",
    "- P. Drude, _Zur Elektronentheorie der Metalle; I Teil_, Annalen der Physik **306**(3), pp.566–613 (1900) https://doi.org/10.1002/andp.19003060312\n",
    "- P. Drude, _Zur Elektronentheorie der Metalle; II Teil. Galvanomagnetische und Thermomagnetische Effecte_, Annalen der Physik **308**(11), pp.369–402 (1900) https://doi.org/10.1002/andp.19003081102\n",
    "- P. Drude, _Zur Elektronentheorie der Metalle; Berichtigung_, Annalen der Physik **312**(3), pp.687–692 (1902) https://doi.org/10.1002/andp.19023120312\n",
    "- H. A. Lorentz, _The Motion of Electrons in Metallic Bodies I_, Proc. of Koninklijke Akademie van Wetenschappen **7**, pp.438-453 (1905) https://dwc.knaw.nl/DL/publications/PU00013989.pdf\n",
    "- H. A. Lorentz, _The Motion of Electrons in Metallic Bodies II_, Proc. of Koninklijke Akademie van Wetenschappen **7**, pp.585-593 (1905) https://dwc.knaw.nl/DL/publications/PU00014010.pdf\n",
    "- H. A. Lorentz, _The Motion of Electrons in Metallic Bodies III_, Proc. of Koninklijke Akademie van Wetenschappen **7**, pp.684-691 (1905) https://dwc.knaw.nl/DL/publications/PU00014024.pdf\n",
    "- La simulation utilise la librairie <a href=\"https://vpython.org\">VPython</a> conçue pour faciliter la visualisation de physique en 3D, avec les instructions d’installation <a href=\"https://vpython.org/presentation2018/install.html\">ici</a> et la documentation <a href=\"https://www.glowscript.org/docs/VPythonDocs/index.html\">ici</a>. Le code adapte en 2D et commente en détail l’exemple <a href=\"https://www.glowscript.org/#/user/GlowScriptDemos/folder/Examples/program/HardSphereGas-VPython\">HardSphereGas-VPython</a> du site interactif <a href=\"https://www.glowscript.org\">GlowScript</a> pour programmer des animations avec VPython directement en ligne."
   ]
  },
  {
   "cell_type": "code",
   "execution_count": null,
   "metadata": {},
   "outputs": [],
   "source": []
  }
 ],
 "metadata": {
  "kernelspec": {
   "display_name": "Python 3 (ipykernel)",
   "language": "python",
   "name": "python3"
  },
  "language_info": {
   "codemirror_mode": {
    "name": "ipython",
    "version": 3
   },
   "file_extension": ".py",
   "mimetype": "text/x-python",
   "name": "python",
   "nbconvert_exporter": "python",
   "pygments_lexer": "ipython3",
   "version": "3.12.2"
  }
 },
 "nbformat": 4,
 "nbformat_minor": 4
}
