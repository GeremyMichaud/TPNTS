{
 "cells": [
  {
   "cell_type": "markdown",
   "metadata": {},
   "source": [
    "# Nicolas Dorval"
   ]
  },
  {
   "cell_type": "markdown",
   "metadata": {},
   "source": [
    "<h1 style=\"text-align:center\">Travail pratique numérique en thermodynamique statistique</h1>\n",
    "<h2 style=\"text-align:center\">PARTIE 2 : Modèle de Drude</h2>\n",
    "\n",
    "Veuillez indiquer le nom des membres de votre équipe dans la cellule suivante."
   ]
  },
  {
   "cell_type": "markdown",
   "metadata": {},
   "source": [
    "- Pierre-Olivier Desrosiers<br>\n",
    "- Nicolas Dorval<br>\n",
    "- Gérémy Michaud<br>\n",
    "- Félix-Antoine Dupuis"
   ]
  },
  {
   "cell_type": "markdown",
   "metadata": {
    "nteract": {
     "transient": {
      "deleting": false
     }
    }
   },
   "source": [
    "# Introduction # \n",
    "Cette deuxième partie du travail implémente une simulation 2D du modèle de Drude pour décrire le mouvement des électrons libres et indépendants dans les métaux. Des sphères dures sont encore utilisées pour représenter les particules, mais maintenant de deux types différents afin de différencier les coeurs ioniques immobiles des électrons sur leurs trajectoires balistiques. Les collisions entre les deux doivent donc être inélastiques. Les questions sur cette simulation, d'abord de cinétique puis de dynamique des électrons en présence d'une force externe appliquée au cristal, vérifieront quelques résultats analytiques du modèle de Drude obtenus en classe et/ou dans le manuel de cours Ashcroft/Mermin.\n",
    "\n",
    "- **La remise du présent _Jupyter Notebook_ ET celui de la 1<sup>re</sup> partie, ainsi que tout autre fichier de code produit, se fait sur Gradescope en n'oubliant pas d'y indiquer tous les membres de votre équipe.**"
   ]
  },
  {
   "cell_type": "code",
   "execution_count": 24,
   "metadata": {},
   "outputs": [],
   "source": [
    "from numpy import *\n",
    "import random\n",
    "from vpython import *\n",
    "from IPython.display import display, Math\n",
    "import math\n",
    "import matplotlib.pyplot as plt\n",
    "import time"
   ]
  },
  {
   "cell_type": "markdown",
   "metadata": {},
   "source": [
    "# 2<sup>e</sup> partie - Modèle de Drude #"
   ]
  },
  {
   "cell_type": "markdown",
   "metadata": {},
   "source": [
    "Faites une copie du script `TDS-2Dsimulation_HXX.py` et modifiez-le pour obtenir une simulation cinétique d'un gaz d'électrons libres dans la matière cristalline selon le modèle de Drude. Spécifiquement selon les pp.4-6 du manuel Ashcroft/Mermin,\n",
    "1. ajoutez un deuxième type de sphères fixes réparties périodiquement dans la boîte d'animation: celles-ci représenteront les coeurs ioniques,\n",
    "2. éliminez les collisions entre les sphères mobiles qui représentent maintenant les électrons de conduction indépendants et libres,\n",
    "3. en faisant appel à la température du gaz, ajoutez des collisions inélastiques entre les électrons libres et les coeurs ioniques fixes. La quantité de mouvement $\\vec{p}$ n'est alors PAS conservée et il faut appliquer les hypothèses spécifiques du modèle de Drude à la sortie de chaque collision, notamment: \n",
    "- la direction de $\\vec{p}$ doit être aléatoire,\n",
    "- la norme $||\\vec{p}||$ est déterminée par la distribution de Maxwell-Boltzmann."
   ]
  },
  {
   "cell_type": "markdown",
   "metadata": {},
   "source": [
    "### Votre simulation ###"
   ]
  },
  {
   "cell_type": "markdown",
   "metadata": {},
   "source": [
    "VII. _(25 points)_ &mdash; Écrivez un appel de votre nouveau script pour l'exécuter avec la cellule suivante:"
   ]
  },
  {
   "cell_type": "code",
   "execution_count": 10,
   "metadata": {},
   "outputs": [
    {
     "name": "stdout",
     "output_type": "stream",
     "text": [
      "exit\n"
     ]
    },
    {
     "name": "stderr",
     "output_type": "stream",
     "text": [
      "Traceback (most recent call last):\n",
      "  File \"c:\\Users\\fanto\\Université Laval\\OptiqueExperimentale_FB_FAD_PHY5 - General\\TPNTS\\TDS_part2-2Dsimulation_H24.py\", line 78, in <module>\n",
      "    handle_inelastic_collisions(hitlist)\n",
      "  File \"c:\\Users\\fanto\\Université Laval\\OptiqueExperimentale_FB_FAD_PHY5 - General\\TPNTS\\TDS_part2-2Dsimulation_H24.py\", line 73, in handle_inelastic_collisions\n",
      "    p[electron] = g_vi(speed, mass, T)*cos(phi), g_vi(speed, mass, T)*sin(phi)\n",
      "TypeError: list indices must be integers or slices, not sphere\n",
      "Task exception was never retrieved\n",
      "future: <Task finished name='Task-6' coro=<WSserver.onMessage() done, defined at c:\\Users\\fanto\\AppData\\Local\\Programs\\Python\\Python310\\lib\\site-packages\\vpython\\no_notebook.py:181> exception=RuntimeError(\"can't register atexit after shutdown\")>\n",
      "Traceback (most recent call last):\n",
      "  File \"c:\\Users\\fanto\\AppData\\Local\\Programs\\Python\\Python310\\lib\\site-packages\\vpython\\no_notebook.py\", line 214, in onMessage\n",
      "    await loop.run_in_executor(None, GW.handle_msg, msg)\n",
      "  File \"c:\\Users\\fanto\\AppData\\Local\\Programs\\Python\\Python310\\lib\\asyncio\\base_events.py\", line 813, in run_in_executor\n",
      "    executor = concurrent.futures.ThreadPoolExecutor(\n",
      "  File \"c:\\Users\\fanto\\AppData\\Local\\Programs\\Python\\Python310\\lib\\concurrent\\futures\\__init__.py\", line 49, in __getattr__\n",
      "    from .thread import ThreadPoolExecutor as te\n",
      "  File \"c:\\Users\\fanto\\AppData\\Local\\Programs\\Python\\Python310\\lib\\concurrent\\futures\\thread.py\", line 37, in <module>\n",
      "    threading._register_atexit(_python_exit)\n",
      "  File \"c:\\Users\\fanto\\AppData\\Local\\Programs\\Python\\Python310\\lib\\threading.py\", line 1497, in _register_atexit\n",
      "    raise RuntimeError(\"can't register atexit after shutdown\")\n",
      "RuntimeError: can't register atexit after shutdown\n",
      "Task exception was never retrieved\n",
      "future: <Task finished name='Task-8' coro=<WSserver.onMessage() done, defined at c:\\Users\\fanto\\AppData\\Local\\Programs\\Python\\Python310\\lib\\site-packages\\vpython\\no_notebook.py:181> exception=RuntimeError(\"can't register atexit after shutdown\")>\n",
      "Traceback (most recent call last):\n",
      "  File \"c:\\Users\\fanto\\AppData\\Local\\Programs\\Python\\Python310\\lib\\site-packages\\vpython\\no_notebook.py\", line 214, in onMessage\n",
      "    await loop.run_in_executor(None, GW.handle_msg, msg)\n",
      "  File \"c:\\Users\\fanto\\AppData\\Local\\Programs\\Python\\Python310\\lib\\asyncio\\base_events.py\", line 813, in run_in_executor\n",
      "    executor = concurrent.futures.ThreadPoolExecutor(\n",
      "  File \"c:\\Users\\fanto\\AppData\\Local\\Programs\\Python\\Python310\\lib\\concurrent\\futures\\__init__.py\", line 49, in __getattr__\n",
      "    from .thread import ThreadPoolExecutor as te\n",
      "  File \"c:\\Users\\fanto\\AppData\\Local\\Programs\\Python\\Python310\\lib\\concurrent\\futures\\thread.py\", line 37, in <module>\n",
      "    threading._register_atexit(_python_exit)\n",
      "  File \"c:\\Users\\fanto\\AppData\\Local\\Programs\\Python\\Python310\\lib\\threading.py\", line 1497, in _register_atexit\n",
      "    raise RuntimeError(\"can't register atexit after shutdown\")\n",
      "RuntimeError: can't register atexit after shutdown\n",
      "Task exception was never retrieved\n",
      "future: <Task finished name='Task-9' coro=<WSserver.onMessage() done, defined at c:\\Users\\fanto\\AppData\\Local\\Programs\\Python\\Python310\\lib\\site-packages\\vpython\\no_notebook.py:181> exception=RuntimeError(\"can't register atexit after shutdown\")>\n",
      "Traceback (most recent call last):\n",
      "  File \"c:\\Users\\fanto\\AppData\\Local\\Programs\\Python\\Python310\\lib\\site-packages\\vpython\\no_notebook.py\", line 214, in onMessage\n",
      "    await loop.run_in_executor(None, GW.handle_msg, msg)\n",
      "  File \"c:\\Users\\fanto\\AppData\\Local\\Programs\\Python\\Python310\\lib\\asyncio\\base_events.py\", line 813, in run_in_executor\n",
      "    executor = concurrent.futures.ThreadPoolExecutor(\n",
      "  File \"c:\\Users\\fanto\\AppData\\Local\\Programs\\Python\\Python310\\lib\\concurrent\\futures\\__init__.py\", line 49, in __getattr__\n",
      "    from .thread import ThreadPoolExecutor as te\n",
      "  File \"c:\\Users\\fanto\\AppData\\Local\\Programs\\Python\\Python310\\lib\\concurrent\\futures\\thread.py\", line 37, in <module>\n",
      "    threading._register_atexit(_python_exit)\n",
      "  File \"c:\\Users\\fanto\\AppData\\Local\\Programs\\Python\\Python310\\lib\\threading.py\", line 1497, in _register_atexit\n",
      "    raise RuntimeError(\"can't register atexit after shutdown\")\n",
      "RuntimeError: can't register atexit after shutdown\n",
      "Task exception was never retrieved\n",
      "future: <Task finished name='Task-10' coro=<WSserver.onMessage() done, defined at c:\\Users\\fanto\\AppData\\Local\\Programs\\Python\\Python310\\lib\\site-packages\\vpython\\no_notebook.py:181> exception=RuntimeError(\"can't register atexit after shutdown\")>\n",
      "Traceback (most recent call last):\n",
      "  File \"c:\\Users\\fanto\\AppData\\Local\\Programs\\Python\\Python310\\lib\\site-packages\\vpython\\no_notebook.py\", line 214, in onMessage\n",
      "    await loop.run_in_executor(None, GW.handle_msg, msg)\n",
      "  File \"c:\\Users\\fanto\\AppData\\Local\\Programs\\Python\\Python310\\lib\\asyncio\\base_events.py\", line 813, in run_in_executor\n",
      "    executor = concurrent.futures.ThreadPoolExecutor(\n",
      "  File \"c:\\Users\\fanto\\AppData\\Local\\Programs\\Python\\Python310\\lib\\concurrent\\futures\\__init__.py\", line 49, in __getattr__\n",
      "    from .thread import ThreadPoolExecutor as te\n",
      "  File \"c:\\Users\\fanto\\AppData\\Local\\Programs\\Python\\Python310\\lib\\concurrent\\futures\\thread.py\", line 37, in <module>\n",
      "    threading._register_atexit(_python_exit)\n",
      "  File \"c:\\Users\\fanto\\AppData\\Local\\Programs\\Python\\Python310\\lib\\threading.py\", line 1497, in _register_atexit\n",
      "    raise RuntimeError(\"can't register atexit after shutdown\")\n",
      "RuntimeError: can't register atexit after shutdown\n",
      "Task exception was never retrieved\n",
      "future: <Task finished name='Task-11' coro=<WSserver.onMessage() done, defined at c:\\Users\\fanto\\AppData\\Local\\Programs\\Python\\Python310\\lib\\site-packages\\vpython\\no_notebook.py:181> exception=RuntimeError(\"can't register atexit after shutdown\")>\n",
      "Traceback (most recent call last):\n",
      "  File \"c:\\Users\\fanto\\AppData\\Local\\Programs\\Python\\Python310\\lib\\site-packages\\vpython\\no_notebook.py\", line 214, in onMessage\n",
      "    await loop.run_in_executor(None, GW.handle_msg, msg)\n",
      "  File \"c:\\Users\\fanto\\AppData\\Local\\Programs\\Python\\Python310\\lib\\asyncio\\base_events.py\", line 813, in run_in_executor\n",
      "    executor = concurrent.futures.ThreadPoolExecutor(\n",
      "  File \"c:\\Users\\fanto\\AppData\\Local\\Programs\\Python\\Python310\\lib\\concurrent\\futures\\__init__.py\", line 49, in __getattr__\n",
      "    from .thread import ThreadPoolExecutor as te\n",
      "  File \"c:\\Users\\fanto\\AppData\\Local\\Programs\\Python\\Python310\\lib\\concurrent\\futures\\thread.py\", line 37, in <module>\n",
      "    threading._register_atexit(_python_exit)\n",
      "  File \"c:\\Users\\fanto\\AppData\\Local\\Programs\\Python\\Python310\\lib\\threading.py\", line 1497, in _register_atexit\n",
      "    raise RuntimeError(\"can't register atexit after shutdown\")\n",
      "RuntimeError: can't register atexit after shutdown\n",
      "Task exception was never retrieved\n",
      "future: <Task finished name='Task-12' coro=<WSserver.onMessage() done, defined at c:\\Users\\fanto\\AppData\\Local\\Programs\\Python\\Python310\\lib\\site-packages\\vpython\\no_notebook.py:181> exception=RuntimeError(\"can't register atexit after shutdown\")>\n",
      "Traceback (most recent call last):\n",
      "  File \"c:\\Users\\fanto\\AppData\\Local\\Programs\\Python\\Python310\\lib\\site-packages\\vpython\\no_notebook.py\", line 214, in onMessage\n",
      "    await loop.run_in_executor(None, GW.handle_msg, msg)\n",
      "  File \"c:\\Users\\fanto\\AppData\\Local\\Programs\\Python\\Python310\\lib\\asyncio\\base_events.py\", line 813, in run_in_executor\n",
      "    executor = concurrent.futures.ThreadPoolExecutor(\n",
      "  File \"c:\\Users\\fanto\\AppData\\Local\\Programs\\Python\\Python310\\lib\\concurrent\\futures\\__init__.py\", line 49, in __getattr__\n",
      "    from .thread import ThreadPoolExecutor as te\n",
      "  File \"c:\\Users\\fanto\\AppData\\Local\\Programs\\Python\\Python310\\lib\\concurrent\\futures\\thread.py\", line 37, in <module>\n",
      "    threading._register_atexit(_python_exit)\n",
      "  File \"c:\\Users\\fanto\\AppData\\Local\\Programs\\Python\\Python310\\lib\\threading.py\", line 1497, in _register_atexit\n",
      "    raise RuntimeError(\"can't register atexit after shutdown\")\n",
      "RuntimeError: can't register atexit after shutdown\n",
      "Task exception was never retrieved\n",
      "future: <Task finished name='Task-25' coro=<WSserver.onMessage() done, defined at c:\\Users\\fanto\\AppData\\Local\\Programs\\Python\\Python310\\lib\\site-packages\\vpython\\no_notebook.py:181> exception=RuntimeError(\"can't register atexit after shutdown\")>\n",
      "Traceback (most recent call last):\n",
      "  File \"c:\\Users\\fanto\\AppData\\Local\\Programs\\Python\\Python310\\lib\\site-packages\\vpython\\no_notebook.py\", line 214, in onMessage\n",
      "    await loop.run_in_executor(None, GW.handle_msg, msg)\n",
      "  File \"c:\\Users\\fanto\\AppData\\Local\\Programs\\Python\\Python310\\lib\\asyncio\\base_events.py\", line 813, in run_in_executor\n",
      "    executor = concurrent.futures.ThreadPoolExecutor(\n",
      "  File \"c:\\Users\\fanto\\AppData\\Local\\Programs\\Python\\Python310\\lib\\concurrent\\futures\\__init__.py\", line 49, in __getattr__\n",
      "    from .thread import ThreadPoolExecutor as te\n",
      "  File \"c:\\Users\\fanto\\AppData\\Local\\Programs\\Python\\Python310\\lib\\concurrent\\futures\\thread.py\", line 37, in <module>\n",
      "    threading._register_atexit(_python_exit)\n",
      "  File \"c:\\Users\\fanto\\AppData\\Local\\Programs\\Python\\Python310\\lib\\threading.py\", line 1497, in _register_atexit\n",
      "    raise RuntimeError(\"can't register atexit after shutdown\")\n",
      "RuntimeError: can't register atexit after shutdown\n",
      "Task exception was never retrieved\n",
      "future: <Task finished name='Task-26' coro=<WSserver.onMessage() done, defined at c:\\Users\\fanto\\AppData\\Local\\Programs\\Python\\Python310\\lib\\site-packages\\vpython\\no_notebook.py:181> exception=RuntimeError(\"can't register atexit after shutdown\")>\n",
      "Traceback (most recent call last):\n",
      "  File \"c:\\Users\\fanto\\AppData\\Local\\Programs\\Python\\Python310\\lib\\site-packages\\vpython\\no_notebook.py\", line 214, in onMessage\n",
      "    await loop.run_in_executor(None, GW.handle_msg, msg)\n",
      "  File \"c:\\Users\\fanto\\AppData\\Local\\Programs\\Python\\Python310\\lib\\asyncio\\base_events.py\", line 813, in run_in_executor\n",
      "    executor = concurrent.futures.ThreadPoolExecutor(\n",
      "  File \"c:\\Users\\fanto\\AppData\\Local\\Programs\\Python\\Python310\\lib\\concurrent\\futures\\__init__.py\", line 49, in __getattr__\n",
      "    from .thread import ThreadPoolExecutor as te\n",
      "  File \"c:\\Users\\fanto\\AppData\\Local\\Programs\\Python\\Python310\\lib\\concurrent\\futures\\thread.py\", line 37, in <module>\n",
      "    threading._register_atexit(_python_exit)\n",
      "  File \"c:\\Users\\fanto\\AppData\\Local\\Programs\\Python\\Python310\\lib\\threading.py\", line 1497, in _register_atexit\n",
      "    raise RuntimeError(\"can't register atexit after shutdown\")\n",
      "RuntimeError: can't register atexit after shutdown\n",
      "Task exception was never retrieved\n",
      "future: <Task finished name='Task-27' coro=<WSserver.onMessage() done, defined at c:\\Users\\fanto\\AppData\\Local\\Programs\\Python\\Python310\\lib\\site-packages\\vpython\\no_notebook.py:181> exception=RuntimeError(\"can't register atexit after shutdown\")>\n",
      "Traceback (most recent call last):\n",
      "  File \"c:\\Users\\fanto\\AppData\\Local\\Programs\\Python\\Python310\\lib\\site-packages\\vpython\\no_notebook.py\", line 214, in onMessage\n",
      "    await loop.run_in_executor(None, GW.handle_msg, msg)\n",
      "  File \"c:\\Users\\fanto\\AppData\\Local\\Programs\\Python\\Python310\\lib\\asyncio\\base_events.py\", line 813, in run_in_executor\n",
      "    executor = concurrent.futures.ThreadPoolExecutor(\n",
      "  File \"c:\\Users\\fanto\\AppData\\Local\\Programs\\Python\\Python310\\lib\\concurrent\\futures\\__init__.py\", line 49, in __getattr__\n",
      "    from .thread import ThreadPoolExecutor as te\n",
      "  File \"c:\\Users\\fanto\\AppData\\Local\\Programs\\Python\\Python310\\lib\\concurrent\\futures\\thread.py\", line 37, in <module>\n",
      "    threading._register_atexit(_python_exit)\n",
      "  File \"c:\\Users\\fanto\\AppData\\Local\\Programs\\Python\\Python310\\lib\\threading.py\", line 1497, in _register_atexit\n",
      "    raise RuntimeError(\"can't register atexit after shutdown\")\n",
      "RuntimeError: can't register atexit after shutdown\n",
      "Task exception was never retrieved\n",
      "future: <Task finished name='Task-28' coro=<WSserver.onMessage() done, defined at c:\\Users\\fanto\\AppData\\Local\\Programs\\Python\\Python310\\lib\\site-packages\\vpython\\no_notebook.py:181> exception=RuntimeError(\"can't register atexit after shutdown\")>\n",
      "Traceback (most recent call last):\n",
      "  File \"c:\\Users\\fanto\\AppData\\Local\\Programs\\Python\\Python310\\lib\\site-packages\\vpython\\no_notebook.py\", line 214, in onMessage\n",
      "    await loop.run_in_executor(None, GW.handle_msg, msg)\n",
      "  File \"c:\\Users\\fanto\\AppData\\Local\\Programs\\Python\\Python310\\lib\\asyncio\\base_events.py\", line 813, in run_in_executor\n",
      "    executor = concurrent.futures.ThreadPoolExecutor(\n",
      "  File \"c:\\Users\\fanto\\AppData\\Local\\Programs\\Python\\Python310\\lib\\concurrent\\futures\\__init__.py\", line 49, in __getattr__\n",
      "    from .thread import ThreadPoolExecutor as te\n",
      "  File \"c:\\Users\\fanto\\AppData\\Local\\Programs\\Python\\Python310\\lib\\concurrent\\futures\\thread.py\", line 37, in <module>\n",
      "    threading._register_atexit(_python_exit)\n",
      "  File \"c:\\Users\\fanto\\AppData\\Local\\Programs\\Python\\Python310\\lib\\threading.py\", line 1497, in _register_atexit\n",
      "    raise RuntimeError(\"can't register atexit after shutdown\")\n",
      "RuntimeError: can't register atexit after shutdown\n",
      "Task exception was never retrieved\n",
      "future: <Task finished name='Task-29' coro=<WSserver.onMessage() done, defined at c:\\Users\\fanto\\AppData\\Local\\Programs\\Python\\Python310\\lib\\site-packages\\vpython\\no_notebook.py:181> exception=RuntimeError(\"can't register atexit after shutdown\")>\n",
      "Traceback (most recent call last):\n",
      "  File \"c:\\Users\\fanto\\AppData\\Local\\Programs\\Python\\Python310\\lib\\site-packages\\vpython\\no_notebook.py\", line 214, in onMessage\n",
      "    await loop.run_in_executor(None, GW.handle_msg, msg)\n",
      "  File \"c:\\Users\\fanto\\AppData\\Local\\Programs\\Python\\Python310\\lib\\asyncio\\base_events.py\", line 813, in run_in_executor\n",
      "    executor = concurrent.futures.ThreadPoolExecutor(\n",
      "  File \"c:\\Users\\fanto\\AppData\\Local\\Programs\\Python\\Python310\\lib\\concurrent\\futures\\__init__.py\", line 49, in __getattr__\n",
      "    from .thread import ThreadPoolExecutor as te\n",
      "  File \"c:\\Users\\fanto\\AppData\\Local\\Programs\\Python\\Python310\\lib\\concurrent\\futures\\thread.py\", line 37, in <module>\n",
      "    threading._register_atexit(_python_exit)\n",
      "  File \"c:\\Users\\fanto\\AppData\\Local\\Programs\\Python\\Python310\\lib\\threading.py\", line 1497, in _register_atexit\n",
      "    raise RuntimeError(\"can't register atexit after shutdown\")\n",
      "RuntimeError: can't register atexit after shutdown\n",
      "Task exception was never retrieved\n",
      "future: <Task finished name='Task-30' coro=<WSserver.onMessage() done, defined at c:\\Users\\fanto\\AppData\\Local\\Programs\\Python\\Python310\\lib\\site-packages\\vpython\\no_notebook.py:181> exception=RuntimeError(\"can't register atexit after shutdown\")>\n",
      "Traceback (most recent call last):\n",
      "  File \"c:\\Users\\fanto\\AppData\\Local\\Programs\\Python\\Python310\\lib\\site-packages\\vpython\\no_notebook.py\", line 214, in onMessage\n",
      "    await loop.run_in_executor(None, GW.handle_msg, msg)\n",
      "  File \"c:\\Users\\fanto\\AppData\\Local\\Programs\\Python\\Python310\\lib\\asyncio\\base_events.py\", line 813, in run_in_executor\n",
      "    executor = concurrent.futures.ThreadPoolExecutor(\n",
      "  File \"c:\\Users\\fanto\\AppData\\Local\\Programs\\Python\\Python310\\lib\\concurrent\\futures\\__init__.py\", line 49, in __getattr__\n",
      "    from .thread import ThreadPoolExecutor as te\n",
      "  File \"c:\\Users\\fanto\\AppData\\Local\\Programs\\Python\\Python310\\lib\\concurrent\\futures\\thread.py\", line 37, in <module>\n",
      "    threading._register_atexit(_python_exit)\n",
      "  File \"c:\\Users\\fanto\\AppData\\Local\\Programs\\Python\\Python310\\lib\\threading.py\", line 1497, in _register_atexit\n",
      "    raise RuntimeError(\"can't register atexit after shutdown\")\n",
      "RuntimeError: can't register atexit after shutdown\n",
      "Task exception was never retrieved\n",
      "future: <Task finished name='Task-31' coro=<WSserver.onMessage() done, defined at c:\\Users\\fanto\\AppData\\Local\\Programs\\Python\\Python310\\lib\\site-packages\\vpython\\no_notebook.py:181> exception=RuntimeError(\"can't register atexit after shutdown\")>\n",
      "Traceback (most recent call last):\n",
      "  File \"c:\\Users\\fanto\\AppData\\Local\\Programs\\Python\\Python310\\lib\\site-packages\\vpython\\no_notebook.py\", line 214, in onMessage\n",
      "    await loop.run_in_executor(None, GW.handle_msg, msg)\n",
      "  File \"c:\\Users\\fanto\\AppData\\Local\\Programs\\Python\\Python310\\lib\\asyncio\\base_events.py\", line 813, in run_in_executor\n",
      "    executor = concurrent.futures.ThreadPoolExecutor(\n",
      "  File \"c:\\Users\\fanto\\AppData\\Local\\Programs\\Python\\Python310\\lib\\concurrent\\futures\\__init__.py\", line 49, in __getattr__\n",
      "    from .thread import ThreadPoolExecutor as te\n",
      "  File \"c:\\Users\\fanto\\AppData\\Local\\Programs\\Python\\Python310\\lib\\concurrent\\futures\\thread.py\", line 37, in <module>\n",
      "    threading._register_atexit(_python_exit)\n",
      "  File \"c:\\Users\\fanto\\AppData\\Local\\Programs\\Python\\Python310\\lib\\threading.py\", line 1497, in _register_atexit\n",
      "    raise RuntimeError(\"can't register atexit after shutdown\")\n",
      "RuntimeError: can't register atexit after shutdown\n",
      "Task exception was never retrieved\n",
      "future: <Task finished name='Task-32' coro=<WSserver.onMessage() done, defined at c:\\Users\\fanto\\AppData\\Local\\Programs\\Python\\Python310\\lib\\site-packages\\vpython\\no_notebook.py:181> exception=RuntimeError(\"can't register atexit after shutdown\")>\n",
      "Traceback (most recent call last):\n",
      "  File \"c:\\Users\\fanto\\AppData\\Local\\Programs\\Python\\Python310\\lib\\site-packages\\vpython\\no_notebook.py\", line 214, in onMessage\n",
      "    await loop.run_in_executor(None, GW.handle_msg, msg)\n",
      "  File \"c:\\Users\\fanto\\AppData\\Local\\Programs\\Python\\Python310\\lib\\asyncio\\base_events.py\", line 813, in run_in_executor\n",
      "    executor = concurrent.futures.ThreadPoolExecutor(\n",
      "  File \"c:\\Users\\fanto\\AppData\\Local\\Programs\\Python\\Python310\\lib\\concurrent\\futures\\__init__.py\", line 49, in __getattr__\n",
      "    from .thread import ThreadPoolExecutor as te\n",
      "  File \"c:\\Users\\fanto\\AppData\\Local\\Programs\\Python\\Python310\\lib\\concurrent\\futures\\thread.py\", line 37, in <module>\n",
      "    threading._register_atexit(_python_exit)\n",
      "  File \"c:\\Users\\fanto\\AppData\\Local\\Programs\\Python\\Python310\\lib\\threading.py\", line 1497, in _register_atexit\n",
      "    raise RuntimeError(\"can't register atexit after shutdown\")\n",
      "RuntimeError: can't register atexit after shutdown\n",
      "Task exception was never retrieved\n",
      "future: <Task finished name='Task-33' coro=<WSserver.onMessage() done, defined at c:\\Users\\fanto\\AppData\\Local\\Programs\\Python\\Python310\\lib\\site-packages\\vpython\\no_notebook.py:181> exception=RuntimeError(\"can't register atexit after shutdown\")>\n",
      "Traceback (most recent call last):\n",
      "  File \"c:\\Users\\fanto\\AppData\\Local\\Programs\\Python\\Python310\\lib\\site-packages\\vpython\\no_notebook.py\", line 214, in onMessage\n",
      "    await loop.run_in_executor(None, GW.handle_msg, msg)\n",
      "  File \"c:\\Users\\fanto\\AppData\\Local\\Programs\\Python\\Python310\\lib\\asyncio\\base_events.py\", line 813, in run_in_executor\n",
      "    executor = concurrent.futures.ThreadPoolExecutor(\n",
      "  File \"c:\\Users\\fanto\\AppData\\Local\\Programs\\Python\\Python310\\lib\\concurrent\\futures\\__init__.py\", line 49, in __getattr__\n",
      "    from .thread import ThreadPoolExecutor as te\n",
      "  File \"c:\\Users\\fanto\\AppData\\Local\\Programs\\Python\\Python310\\lib\\concurrent\\futures\\thread.py\", line 37, in <module>\n",
      "    threading._register_atexit(_python_exit)\n",
      "  File \"c:\\Users\\fanto\\AppData\\Local\\Programs\\Python\\Python310\\lib\\threading.py\", line 1497, in _register_atexit\n",
      "    raise RuntimeError(\"can't register atexit after shutdown\")\n",
      "RuntimeError: can't register atexit after shutdown\n",
      "Task exception was never retrieved\n",
      "future: <Task finished name='Task-34' coro=<WSserver.onMessage() done, defined at c:\\Users\\fanto\\AppData\\Local\\Programs\\Python\\Python310\\lib\\site-packages\\vpython\\no_notebook.py:181> exception=RuntimeError(\"can't register atexit after shutdown\")>\n",
      "Traceback (most recent call last):\n",
      "  File \"c:\\Users\\fanto\\AppData\\Local\\Programs\\Python\\Python310\\lib\\site-packages\\vpython\\no_notebook.py\", line 214, in onMessage\n",
      "    await loop.run_in_executor(None, GW.handle_msg, msg)\n",
      "  File \"c:\\Users\\fanto\\AppData\\Local\\Programs\\Python\\Python310\\lib\\asyncio\\base_events.py\", line 813, in run_in_executor\n",
      "    executor = concurrent.futures.ThreadPoolExecutor(\n",
      "  File \"c:\\Users\\fanto\\AppData\\Local\\Programs\\Python\\Python310\\lib\\concurrent\\futures\\__init__.py\", line 49, in __getattr__\n",
      "    from .thread import ThreadPoolExecutor as te\n",
      "  File \"c:\\Users\\fanto\\AppData\\Local\\Programs\\Python\\Python310\\lib\\concurrent\\futures\\thread.py\", line 37, in <module>\n",
      "    threading._register_atexit(_python_exit)\n",
      "  File \"c:\\Users\\fanto\\AppData\\Local\\Programs\\Python\\Python310\\lib\\threading.py\", line 1497, in _register_atexit\n",
      "    raise RuntimeError(\"can't register atexit after shutdown\")\n",
      "RuntimeError: can't register atexit after shutdown\n",
      "Task exception was never retrieved\n",
      "future: <Task finished name='Task-35' coro=<WSserver.onMessage() done, defined at c:\\Users\\fanto\\AppData\\Local\\Programs\\Python\\Python310\\lib\\site-packages\\vpython\\no_notebook.py:181> exception=RuntimeError(\"can't register atexit after shutdown\")>\n",
      "Traceback (most recent call last):\n",
      "  File \"c:\\Users\\fanto\\AppData\\Local\\Programs\\Python\\Python310\\lib\\site-packages\\vpython\\no_notebook.py\", line 214, in onMessage\n",
      "    await loop.run_in_executor(None, GW.handle_msg, msg)\n",
      "  File \"c:\\Users\\fanto\\AppData\\Local\\Programs\\Python\\Python310\\lib\\asyncio\\base_events.py\", line 813, in run_in_executor\n",
      "    executor = concurrent.futures.ThreadPoolExecutor(\n",
      "  File \"c:\\Users\\fanto\\AppData\\Local\\Programs\\Python\\Python310\\lib\\concurrent\\futures\\__init__.py\", line 49, in __getattr__\n",
      "    from .thread import ThreadPoolExecutor as te\n",
      "  File \"c:\\Users\\fanto\\AppData\\Local\\Programs\\Python\\Python310\\lib\\concurrent\\futures\\thread.py\", line 37, in <module>\n",
      "    threading._register_atexit(_python_exit)\n",
      "  File \"c:\\Users\\fanto\\AppData\\Local\\Programs\\Python\\Python310\\lib\\threading.py\", line 1497, in _register_atexit\n",
      "    raise RuntimeError(\"can't register atexit after shutdown\")\n",
      "RuntimeError: can't register atexit after shutdown\n",
      "Task exception was never retrieved\n",
      "future: <Task finished name='Task-36' coro=<WSserver.onMessage() done, defined at c:\\Users\\fanto\\AppData\\Local\\Programs\\Python\\Python310\\lib\\site-packages\\vpython\\no_notebook.py:181> exception=RuntimeError(\"can't register atexit after shutdown\")>\n",
      "Traceback (most recent call last):\n",
      "  File \"c:\\Users\\fanto\\AppData\\Local\\Programs\\Python\\Python310\\lib\\site-packages\\vpython\\no_notebook.py\", line 214, in onMessage\n",
      "    await loop.run_in_executor(None, GW.handle_msg, msg)\n",
      "  File \"c:\\Users\\fanto\\AppData\\Local\\Programs\\Python\\Python310\\lib\\asyncio\\base_events.py\", line 813, in run_in_executor\n",
      "    executor = concurrent.futures.ThreadPoolExecutor(\n",
      "  File \"c:\\Users\\fanto\\AppData\\Local\\Programs\\Python\\Python310\\lib\\concurrent\\futures\\__init__.py\", line 49, in __getattr__\n",
      "    from .thread import ThreadPoolExecutor as te\n",
      "  File \"c:\\Users\\fanto\\AppData\\Local\\Programs\\Python\\Python310\\lib\\concurrent\\futures\\thread.py\", line 37, in <module>\n",
      "    threading._register_atexit(_python_exit)\n",
      "  File \"c:\\Users\\fanto\\AppData\\Local\\Programs\\Python\\Python310\\lib\\threading.py\", line 1497, in _register_atexit\n",
      "    raise RuntimeError(\"can't register atexit after shutdown\")\n",
      "RuntimeError: can't register atexit after shutdown\n",
      "Task exception was never retrieved\n",
      "future: <Task finished name='Task-48' coro=<WSserver.onMessage() done, defined at c:\\Users\\fanto\\AppData\\Local\\Programs\\Python\\Python310\\lib\\site-packages\\vpython\\no_notebook.py:181> exception=RuntimeError(\"can't register atexit after shutdown\")>\n",
      "Traceback (most recent call last):\n",
      "  File \"c:\\Users\\fanto\\AppData\\Local\\Programs\\Python\\Python310\\lib\\site-packages\\vpython\\no_notebook.py\", line 214, in onMessage\n",
      "    await loop.run_in_executor(None, GW.handle_msg, msg)\n",
      "  File \"c:\\Users\\fanto\\AppData\\Local\\Programs\\Python\\Python310\\lib\\asyncio\\base_events.py\", line 813, in run_in_executor\n",
      "    executor = concurrent.futures.ThreadPoolExecutor(\n",
      "  File \"c:\\Users\\fanto\\AppData\\Local\\Programs\\Python\\Python310\\lib\\concurrent\\futures\\__init__.py\", line 49, in __getattr__\n",
      "    from .thread import ThreadPoolExecutor as te\n",
      "  File \"c:\\Users\\fanto\\AppData\\Local\\Programs\\Python\\Python310\\lib\\concurrent\\futures\\thread.py\", line 37, in <module>\n",
      "    threading._register_atexit(_python_exit)\n",
      "  File \"c:\\Users\\fanto\\AppData\\Local\\Programs\\Python\\Python310\\lib\\threading.py\", line 1497, in _register_atexit\n",
      "    raise RuntimeError(\"can't register atexit after shutdown\")\n",
      "RuntimeError: can't register atexit after shutdown\n",
      "Task exception was never retrieved\n",
      "future: <Task finished name='Task-49' coro=<WSserver.onMessage() done, defined at c:\\Users\\fanto\\AppData\\Local\\Programs\\Python\\Python310\\lib\\site-packages\\vpython\\no_notebook.py:181> exception=RuntimeError(\"can't register atexit after shutdown\")>\n",
      "Traceback (most recent call last):\n",
      "  File \"c:\\Users\\fanto\\AppData\\Local\\Programs\\Python\\Python310\\lib\\site-packages\\vpython\\no_notebook.py\", line 214, in onMessage\n",
      "    await loop.run_in_executor(None, GW.handle_msg, msg)\n",
      "  File \"c:\\Users\\fanto\\AppData\\Local\\Programs\\Python\\Python310\\lib\\asyncio\\base_events.py\", line 813, in run_in_executor\n",
      "    executor = concurrent.futures.ThreadPoolExecutor(\n",
      "  File \"c:\\Users\\fanto\\AppData\\Local\\Programs\\Python\\Python310\\lib\\concurrent\\futures\\__init__.py\", line 49, in __getattr__\n",
      "    from .thread import ThreadPoolExecutor as te\n",
      "  File \"c:\\Users\\fanto\\AppData\\Local\\Programs\\Python\\Python310\\lib\\concurrent\\futures\\thread.py\", line 37, in <module>\n",
      "    threading._register_atexit(_python_exit)\n",
      "  File \"c:\\Users\\fanto\\AppData\\Local\\Programs\\Python\\Python310\\lib\\threading.py\", line 1497, in _register_atexit\n",
      "    raise RuntimeError(\"can't register atexit after shutdown\")\n",
      "RuntimeError: can't register atexit after shutdown\n",
      "Task exception was never retrieved\n",
      "future: <Task finished name='Task-50' coro=<WSserver.onMessage() done, defined at c:\\Users\\fanto\\AppData\\Local\\Programs\\Python\\Python310\\lib\\site-packages\\vpython\\no_notebook.py:181> exception=RuntimeError(\"can't register atexit after shutdown\")>\n",
      "Traceback (most recent call last):\n",
      "  File \"c:\\Users\\fanto\\AppData\\Local\\Programs\\Python\\Python310\\lib\\site-packages\\vpython\\no_notebook.py\", line 214, in onMessage\n",
      "    await loop.run_in_executor(None, GW.handle_msg, msg)\n",
      "  File \"c:\\Users\\fanto\\AppData\\Local\\Programs\\Python\\Python310\\lib\\asyncio\\base_events.py\", line 813, in run_in_executor\n",
      "    executor = concurrent.futures.ThreadPoolExecutor(\n",
      "  File \"c:\\Users\\fanto\\AppData\\Local\\Programs\\Python\\Python310\\lib\\concurrent\\futures\\__init__.py\", line 49, in __getattr__\n",
      "    from .thread import ThreadPoolExecutor as te\n",
      "  File \"c:\\Users\\fanto\\AppData\\Local\\Programs\\Python\\Python310\\lib\\concurrent\\futures\\thread.py\", line 37, in <module>\n",
      "    threading._register_atexit(_python_exit)\n",
      "  File \"c:\\Users\\fanto\\AppData\\Local\\Programs\\Python\\Python310\\lib\\threading.py\", line 1497, in _register_atexit\n",
      "    raise RuntimeError(\"can't register atexit after shutdown\")\n",
      "RuntimeError: can't register atexit after shutdown\n",
      "Exception ignored in atexit callback: <function Exit at 0x0000025C1EB2B1C0>\n",
      "Traceback (most recent call last):\n",
      "  File \"c:\\Users\\fanto\\AppData\\Local\\Programs\\Python\\Python310\\lib\\site-packages\\vpython\\vpython.py\", line 22, in Exit\n",
      "    a = 1.0/zero\n",
      "ZeroDivisionError: float division by zero\n"
     ]
    },
    {
     "name": "stdout",
     "output_type": "stream",
     "text": [
      "^C\n"
     ]
    },
    {
     "name": "stderr",
     "output_type": "stream",
     "text": [
      "Traceback (most recent call last):\n",
      "  File \"c:\\Users\\fanto\\Université Laval\\OptiqueExperimentale_FB_FAD_PHY5 - General\\TPNTS\\TDS_part2-2Dsimulation_H24.py\", line 78, in <module>\n",
      "    handle_inelastic_collisions(hitlist)\n",
      "  File \"c:\\Users\\fanto\\Université Laval\\OptiqueExperimentale_FB_FAD_PHY5 - General\\TPNTS\\TDS_part2-2Dsimulation_H24.py\", line 73, in handle_inelastic_collisions\n",
      "    p[hitlist.index(electron)] = g_vi(speed, mass, T)*cos(phi), g_vi(speed, mass, T)*sin(phi)\n",
      "IndexError: list assignment index out of range\n",
      "Exception ignored in atexit callback: <function Exit at 0x000002EF47FFB250>\n",
      "Traceback (most recent call last):\n",
      "  File \"c:\\Users\\fanto\\AppData\\Local\\Programs\\Python\\Python310\\lib\\site-packages\\vpython\\vpython.py\", line 22, in Exit\n",
      "    a = 1.0/zero\n",
      "ZeroDivisionError: float division by zero\n"
     ]
    },
    {
     "name": "stdout",
     "output_type": "stream",
     "text": [
      "exit\n"
     ]
    }
   ],
   "source": [
    "!python TDS_part2-2Dsimulation_H24.py"
   ]
  },
  {
   "cell_type": "markdown",
   "metadata": {},
   "source": [
    "### Question statistique ###"
   ]
  },
  {
   "cell_type": "markdown",
   "metadata": {},
   "source": [
    "VIII. _(5 points)_ &mdash; Vérifiez numériquement et graphiquement que l'amortissement de la quantité de mouvement moyenne des électrons suit l'équation exponentielle dérivée analytiquement en classe, soit $\\langle p(t)\\rangle =\\langle p(t_0)\\rangle \\,e^{-t/\\tau}$, et comparez-y le comportement d'un seul électron."
   ]
  },
  {
   "cell_type": "code",
   "execution_count": null,
   "metadata": {},
   "outputs": [],
   "source": [
    "\n",
    "#"
   ]
  },
  {
   "cell_type": "markdown",
   "metadata": {},
   "source": [
    "### Dynamique sous l'effet d'une force externe ###"
   ]
  },
  {
   "cell_type": "markdown",
   "metadata": {},
   "source": [
    "IX. _(10 points)_ &mdash; Pour passer de la cinétique à la dynamique des électrons libres, modifiez votre code de simulation en ajoutant une fonction qui applique un champ électrique uniforme. Celui-ci devra être de module ajustable et perpendiculaire à deux des côtés de la boîte. À chaque pas de temps $\\mathrm{d}t$ sans collision, les électrons devront donc accélérer d'un incrément $\\mathrm{d}p_x$ dicté par la force de Coulomb à leur position.\n",
    "\n",
    "Copiez le code de votre fonction dans la cellule qui suit en n'oubliant pas d'inclure votre fichier Python (`.py`) modifié avec la simulation complète lors de la remise."
   ]
  },
  {
   "cell_type": "code",
   "execution_count": null,
   "metadata": {},
   "outputs": [],
   "source": []
  },
  {
   "cell_type": "markdown",
   "metadata": {},
   "source": [
    "### Question statistique ###"
   ]
  },
  {
   "cell_type": "markdown",
   "metadata": {},
   "source": [
    "X. _(5 points)_ &mdash; Pour quelques différents modules de champ électrique, présentez graphiquement l'évolution de la position moyenne des électrons en fonction du temps pour ses deux composantes parallèle et perpendiculaire au champ."
   ]
  },
  {
   "cell_type": "code",
   "execution_count": null,
   "metadata": {},
   "outputs": [],
   "source": []
  },
  {
   "cell_type": "markdown",
   "metadata": {
    "nteract": {
     "transient": {
      "deleting": false
     }
    }
   },
   "source": [
    "# Médiagraphie #\n",
    "- P. Drude, _Zur Elektronentheorie der Metalle; I Teil_, Annalen der Physik **306**(3), pp.566–613 (1900) https://doi.org/10.1002/andp.19003060312\n",
    "- P. Drude, _Zur Elektronentheorie der Metalle; II Teil. Galvanomagnetische und Thermomagnetische Effecte_, Annalen der Physik **308**(11), pp.369–402 (1900) https://doi.org/10.1002/andp.19003081102\n",
    "- P. Drude, _Zur Elektronentheorie der Metalle; Berichtigung_, Annalen der Physik **312**(3), pp.687–692 (1902) https://doi.org/10.1002/andp.19023120312\n",
    "- H. A. Lorentz, _The Motion of Electrons in Metallic Bodies I_, Proc. of Koninklijke Akademie van Wetenschappen **7**, pp.438-453 (1905) https://dwc.knaw.nl/DL/publications/PU00013989.pdf\n",
    "- H. A. Lorentz, _The Motion of Electrons in Metallic Bodies II_, Proc. of Koninklijke Akademie van Wetenschappen **7**, pp.585-593 (1905) https://dwc.knaw.nl/DL/publications/PU00014010.pdf\n",
    "- H. A. Lorentz, _The Motion of Electrons in Metallic Bodies III_, Proc. of Koninklijke Akademie van Wetenschappen **7**, pp.684-691 (1905) https://dwc.knaw.nl/DL/publications/PU00014024.pdf\n",
    "- La simulation utilise la librairie <a href=\"https://vpython.org\">VPython</a> conçue pour faciliter la visualisation de physique en 3D, avec les instructions d’installation <a href=\"https://vpython.org/presentation2018/install.html\">ici</a> et la documentation <a href=\"https://www.glowscript.org/docs/VPythonDocs/index.html\">ici</a>. Le code adapte en 2D et commente en détail l’exemple <a href=\"https://www.glowscript.org/#/user/GlowScriptDemos/folder/Examples/program/HardSphereGas-VPython\">HardSphereGas-VPython</a> du site interactif <a href=\"https://www.glowscript.org\">GlowScript</a> pour programmer des animations avec VPython directement en ligne."
   ]
  },
  {
   "cell_type": "code",
   "execution_count": null,
   "metadata": {},
   "outputs": [],
   "source": []
  }
 ],
 "metadata": {
  "kernelspec": {
   "display_name": "Python 3 (ipykernel)",
   "language": "python",
   "name": "python3"
  },
  "language_info": {
   "codemirror_mode": {
    "name": "ipython",
    "version": 3
   },
   "file_extension": ".py",
   "mimetype": "text/x-python",
   "name": "python",
   "nbconvert_exporter": "python",
   "pygments_lexer": "ipython3",
   "version": "3.10.4"
  }
 },
 "nbformat": 4,
 "nbformat_minor": 4
}
